{
 "cells": [
  {
   "cell_type": "code",
   "execution_count": 2,
   "metadata": {},
   "outputs": [],
   "source": [
    "%matplotlib inline\n",
    "\n",
    "import matplotlib\n",
    "import numpy as np\n",
    "import matplotlib.pyplot as plt"
   ]
  },
  {
   "cell_type": "code",
   "execution_count": 14,
   "metadata": {},
   "outputs": [
    {
     "name": "stdout",
     "output_type": "stream",
     "text": [
      "True\n"
     ]
    }
   ],
   "source": [
    "import sys\n",
    "import pickle\n",
    "sys.path.append(\"../tools/\")\n",
    "\n",
    "import pandas\n",
    "\n",
    "### Load the dictionary containing the dataset\n",
    "with open(\"final_project_dataset.pkl\", \"r\") as data_file:\n",
    "    data_dict = pickle.load(data_file)\n",
    "    \n",
    "# Your code\n",
    "df = pandas.DataFrame.from_records(list(data_dict.values()))\n",
    "employees = pandas.Series(list(data_dict.keys()))\n",
    "\n",
    "# set the index of df to be the employees series:\n",
    "df.set_index(employees, inplace=True)\n",
    "\n",
    "# You will have code here to add columns, i.e. new features,\n",
    "# to the df, or remove rows, i.e. employees, from the df\n",
    "\n",
    "\n",
    "# after you create features, the column names will be your new features\n",
    "# create a list of column names:\n",
    "new_features_list = df.columns.values\n",
    "\n",
    "\n",
    "# create a dictionary from the dataframe\n",
    "df_dict = df.to_dict('index')\n",
    "\n",
    "# compare the original dictionary \n",
    "# with the dictionary reconstructed from the dataframe:  \n",
    "print df_dict == data_dict\n"
   ]
  },
  {
   "cell_type": "code",
   "execution_count": 16,
   "metadata": {},
   "outputs": [],
   "source": [
    "df.replace(to_replace = \"NaN\", value = np.nan, inplace = True)\n",
    "for i in df.index:\n",
    "    if df.ix[i].count() > 19:\n",
    "        print df.ix[i]"
   ]
  },
  {
   "cell_type": "code",
   "execution_count": 4,
   "metadata": {},
   "outputs": [
    {
     "name": "stdout",
     "output_type": "stream",
     "text": [
      "Index([u'bonus', u'deferral_payments', u'deferred_income', u'director_fees',\n",
      "       u'email_address', u'exercised_stock_options', u'expenses',\n",
      "       u'from_messages', u'from_poi_to_this_person',\n",
      "       u'from_this_person_to_poi', u'loan_advances', u'long_term_incentive',\n",
      "       u'other', u'poi', u'restricted_stock', u'restricted_stock_deferred',\n",
      "       u'salary', u'shared_receipt_with_poi', u'to_messages',\n",
      "       u'total_payments', u'total_stock_value'],\n",
      "      dtype='object')\n",
      "21\n",
      "146\n"
     ]
    }
   ],
   "source": [
    "print df.keys()\n",
    "print len(df.keys())\n",
    "print len(employees)"
   ]
  },
  {
   "cell_type": "code",
   "execution_count": 64,
   "metadata": {
    "scrolled": true
   },
   "outputs": [
    {
     "name": "stdout",
     "output_type": "stream",
     "text": [
      "                    bonus deferral_payments deferred_income director_fees  \\\n",
      "METTS MARK         600000               NaN             NaN           NaN   \n",
      "BAXTER JOHN C     1200000           1295738        -1386055           NaN   \n",
      "ELLIOTT STEVEN     350000               NaN         -400729           NaN   \n",
      "CORDES WILLIAM R      NaN               NaN             NaN           NaN   \n",
      "HANNON KEVIN P    1500000               NaN        -3117011           NaN   \n",
      "\n",
      "                             email_address exercised_stock_options expenses  \\\n",
      "METTS MARK            mark.metts@enron.com                     NaN    94299   \n",
      "BAXTER JOHN C                          NaN                 6680544    11200   \n",
      "ELLIOTT STEVEN    steven.elliott@enron.com                 4890344    78552   \n",
      "CORDES WILLIAM R     bill.cordes@enron.com                  651850      NaN   \n",
      "HANNON KEVIN P      kevin.hannon@enron.com                 5538001    34039   \n",
      "\n",
      "                 from_messages from_poi_to_this_person  \\\n",
      "METTS MARK                  29                      38   \n",
      "BAXTER JOHN C              NaN                     NaN   \n",
      "ELLIOTT STEVEN             NaN                     NaN   \n",
      "CORDES WILLIAM R            12                      10   \n",
      "HANNON KEVIN P              32                      32   \n",
      "\n",
      "                 from_this_person_to_poi        ...         \\\n",
      "METTS MARK                             1        ...          \n",
      "BAXTER JOHN C                        NaN        ...          \n",
      "ELLIOTT STEVEN                       NaN        ...          \n",
      "CORDES WILLIAM R                       0        ...          \n",
      "HANNON KEVIN P                        21        ...          \n",
      "\n",
      "                 long_term_incentive    other    poi restricted_stock  \\\n",
      "METTS MARK                       NaN     1740  False           585062   \n",
      "BAXTER JOHN C                1586055  2660303  False          3942714   \n",
      "ELLIOTT STEVEN                   NaN    12961  False          1788391   \n",
      "CORDES WILLIAM R                 NaN      NaN  False           386335   \n",
      "HANNON KEVIN P               1617011    11350   True           853064   \n",
      "\n",
      "                 restricted_stock_deferred  salary shared_receipt_with_poi  \\\n",
      "METTS MARK                             NaN  365788                     702   \n",
      "BAXTER JOHN C                          NaN  267102                     NaN   \n",
      "ELLIOTT STEVEN                         NaN  170941                     NaN   \n",
      "CORDES WILLIAM R                       NaN     NaN                      58   \n",
      "HANNON KEVIN P                         NaN  243293                    1035   \n",
      "\n",
      "                 to_messages total_payments total_stock_value  \n",
      "METTS MARK               807        1061827            585062  \n",
      "BAXTER JOHN C            NaN        5634343          10623258  \n",
      "ELLIOTT STEVEN           NaN         211725           6678735  \n",
      "CORDES WILLIAM R         764            NaN           1038185  \n",
      "HANNON KEVIN P          1045         288682           6391065  \n",
      "\n",
      "[5 rows x 21 columns]\n"
     ]
    }
   ],
   "source": [
    "print df.head()"
   ]
  },
  {
   "cell_type": "code",
   "execution_count": 66,
   "metadata": {},
   "outputs": [
    {
     "name": "stdout",
     "output_type": "stream",
     "text": [
      "       bonus deferral_payments deferred_income director_fees email_address  \\\n",
      "count    146               146             146           146           146   \n",
      "unique    42                40              45            18           112   \n",
      "top      NaN               NaN             NaN           NaN           NaN   \n",
      "freq      64               107              97           129            35   \n",
      "\n",
      "       exercised_stock_options expenses from_messages from_poi_to_this_person  \\\n",
      "count                      146      146           146                     146   \n",
      "unique                     102       95            65                      58   \n",
      "top                        NaN      NaN           NaN                     NaN   \n",
      "freq                        44       51            60                      60   \n",
      "\n",
      "       from_this_person_to_poi        ...        long_term_incentive other  \\\n",
      "count                      146        ...                        146   146   \n",
      "unique                      42        ...                         53    93   \n",
      "top                        NaN        ...                        NaN   NaN   \n",
      "freq                        60        ...                         80    53   \n",
      "\n",
      "          poi restricted_stock restricted_stock_deferred salary  \\\n",
      "count     146              146                       146    146   \n",
      "unique      2               98                        19     95   \n",
      "top     False              NaN                       NaN    NaN   \n",
      "freq      128               36                       128     51   \n",
      "\n",
      "       shared_receipt_with_poi to_messages total_payments total_stock_value  \n",
      "count                      146         146            146               146  \n",
      "unique                      84          87            126               125  \n",
      "top                        NaN         NaN            NaN               NaN  \n",
      "freq                        60          60             21                20  \n",
      "\n",
      "[4 rows x 21 columns]\n"
     ]
    }
   ],
   "source": [
    "print df.describe()"
   ]
  },
  {
   "cell_type": "code",
   "execution_count": 67,
   "metadata": {
    "scrolled": true
   },
   "outputs": [
    {
     "name": "stdout",
     "output_type": "stream",
     "text": [
      "              bonus  deferral_payments  deferred_income  director_fees  \\\n",
      "count  1.460000e+02       1.460000e+02     1.460000e+02   1.460000e+02   \n",
      "mean   1.333474e+06       4.387965e+05    -3.827622e+05   1.942249e+04   \n",
      "std    8.094029e+06       2.741325e+06     2.378250e+06   1.190543e+05   \n",
      "min    0.000000e+00      -1.025000e+05    -2.799289e+07   0.000000e+00   \n",
      "25%    0.000000e+00       0.000000e+00    -3.792600e+04   0.000000e+00   \n",
      "50%    3.000000e+05       0.000000e+00     0.000000e+00   0.000000e+00   \n",
      "75%    8.000000e+05       9.684500e+03     0.000000e+00   0.000000e+00   \n",
      "max    9.734362e+07       3.208340e+07     0.000000e+00   1.398517e+06   \n",
      "\n",
      "       exercised_stock_options      expenses  from_messages  \\\n",
      "count             1.460000e+02  1.460000e+02     146.000000   \n",
      "mean              4.182736e+06  7.074827e+04     358.602740   \n",
      "std               2.607040e+07  4.327163e+05    1441.259868   \n",
      "min               0.000000e+00  0.000000e+00       0.000000   \n",
      "25%               0.000000e+00  0.000000e+00       0.000000   \n",
      "50%               6.082935e+05  2.018200e+04      16.500000   \n",
      "75%               1.714221e+06  5.374075e+04      51.250000   \n",
      "max               3.117640e+08  5.235198e+06   14368.000000   \n",
      "\n",
      "       from_poi_to_this_person  from_this_person_to_poi  loan_advances  \\\n",
      "count               146.000000               146.000000   1.460000e+02   \n",
      "mean                 38.226027                24.287671   1.149658e+06   \n",
      "std                  73.901124                79.278206   9.649342e+06   \n",
      "min                   0.000000                 0.000000   0.000000e+00   \n",
      "25%                   0.000000                 0.000000   0.000000e+00   \n",
      "50%                   2.500000                 0.000000   0.000000e+00   \n",
      "75%                  40.750000                13.750000   0.000000e+00   \n",
      "max                 528.000000               609.000000   8.392500e+07   \n",
      "\n",
      "       long_term_incentive         other  restricted_stock  \\\n",
      "count         1.460000e+02  1.460000e+02      1.460000e+02   \n",
      "mean          6.646839e+05  5.854318e+05      1.749257e+06   \n",
      "std           4.046072e+06  3.682345e+06      1.089995e+07   \n",
      "min           0.000000e+00  0.000000e+00     -2.604490e+06   \n",
      "25%           0.000000e+00  0.000000e+00      8.115000e+03   \n",
      "50%           0.000000e+00  9.595000e+02      3.605280e+05   \n",
      "75%           3.750648e+05  1.506065e+05      8.145280e+05   \n",
      "max           4.852193e+07  4.266759e+07      1.303223e+08   \n",
      "\n",
      "       restricted_stock_deferred        salary  shared_receipt_with_poi  \\\n",
      "count               1.460000e+02  1.460000e+02               146.000000   \n",
      "mean                2.051637e+04  3.658114e+05               692.986301   \n",
      "std                 1.439661e+06  2.203575e+06              1072.969492   \n",
      "min                -7.576788e+06  0.000000e+00                 0.000000   \n",
      "25%                 0.000000e+00  0.000000e+00                 0.000000   \n",
      "50%                 0.000000e+00  2.105960e+05               102.500000   \n",
      "75%                 0.000000e+00  2.708505e+05               893.500000   \n",
      "max                 1.545629e+07  2.670423e+07              5521.000000   \n",
      "\n",
      "        to_messages  total_payments  total_stock_value  \n",
      "count    146.000000    1.460000e+02       1.460000e+02  \n",
      "mean    1221.589041    4.350622e+06       5.846018e+06  \n",
      "std     2226.770637    2.693448e+07       3.624681e+07  \n",
      "min        0.000000    0.000000e+00      -4.409300e+04  \n",
      "25%        0.000000    9.394475e+04       2.288695e+05  \n",
      "50%      289.000000    9.413595e+05       9.659550e+05  \n",
      "75%     1585.750000    1.968287e+06       2.319991e+06  \n",
      "max    15149.000000    3.098866e+08       4.345095e+08  \n"
     ]
    }
   ],
   "source": [
    "#change string NaN to 0\n",
    "df.replace(to_replace = \"NaN\", value = 0, inplace = True)\n",
    "print df.describe()"
   ]
  },
  {
   "cell_type": "code",
   "execution_count": 68,
   "metadata": {},
   "outputs": [
    {
     "name": "stdout",
     "output_type": "stream",
     "text": [
      "['bonus' 'deferral_payments' 'deferred_income' 'director_fees'\n",
      " 'email_address' 'exercised_stock_options' 'expenses' 'from_messages'\n",
      " 'from_poi_to_this_person' 'from_this_person_to_poi' 'loan_advances'\n",
      " 'long_term_incentive' 'other' 'poi' 'restricted_stock'\n",
      " 'restricted_stock_deferred' 'salary' 'shared_receipt_with_poi'\n",
      " 'to_messages' 'total_payments' 'total_stock_value']\n"
     ]
    }
   ],
   "source": [
    "print df.columns.values"
   ]
  },
  {
   "cell_type": "code",
   "execution_count": 69,
   "metadata": {},
   "outputs": [
    {
     "name": "stdout",
     "output_type": "stream",
     "text": [
      "['bonus' 'deferral_payments' 'deferred_income' 'director_fees'\n",
      " 'exercised_stock_options' 'expenses' 'from_messages'\n",
      " 'from_poi_to_this_person' 'from_this_person_to_poi' 'loan_advances'\n",
      " 'long_term_incentive' 'other' 'poi' 'restricted_stock'\n",
      " 'restricted_stock_deferred' 'salary' 'shared_receipt_with_poi'\n",
      " 'to_messages' 'total_payments' 'total_stock_value']\n"
     ]
    }
   ],
   "source": [
    "df = df.drop('email_address', axis=1)\n",
    "print df.columns.values"
   ]
  },
  {
   "cell_type": "code",
   "execution_count": 70,
   "metadata": {},
   "outputs": [
    {
     "name": "stdout",
     "output_type": "stream",
     "text": [
      "97343619\n"
     ]
    }
   ],
   "source": [
    "print df['bonus'].max()\n"
   ]
  },
  {
   "cell_type": "code",
   "execution_count": 71,
   "metadata": {},
   "outputs": [
    {
     "data": {
      "text/plain": [
       "<matplotlib.axes._subplots.AxesSubplot at 0xc2df2e8>"
      ]
     },
     "execution_count": 71,
     "metadata": {},
     "output_type": "execute_result"
    },
    {
     "data": {
      "image/png": "[encoded data removed]",
      "text/plain": [
       "<matplotlib.figure.Figure at 0xc261828>"
      ]
     },
     "metadata": {},
     "output_type": "display_data"
    }
   ],
   "source": [
    "df.plot.box()\n",
    "\n",
    "#we find something weird because there exist an extreme value.\n",
    "#let us check what the row name is."
   ]
  },
  {
   "cell_type": "code",
   "execution_count": 72,
   "metadata": {},
   "outputs": [
    {
     "name": "stdout",
     "output_type": "stream",
     "text": [
      "TOTAL\n"
     ]
    }
   ],
   "source": [
    "print df['bonus'].argmax()\n"
   ]
  },
  {
   "cell_type": "code",
   "execution_count": 73,
   "metadata": {},
   "outputs": [
    {
     "name": "stdout",
     "output_type": "stream",
     "text": [
      "bonus                         97343619\n",
      "deferral_payments             32083396\n",
      "deferred_income              -27992891\n",
      "director_fees                  1398517\n",
      "exercised_stock_options      311764000\n",
      "expenses                       5235198\n",
      "from_messages                        0\n",
      "from_poi_to_this_person              0\n",
      "from_this_person_to_poi              0\n",
      "loan_advances                 83925000\n",
      "long_term_incentive           48521928\n",
      "other                         42667589\n",
      "poi                              False\n",
      "restricted_stock             130322299\n",
      "restricted_stock_deferred     -7576788\n",
      "salary                        26704229\n",
      "shared_receipt_with_poi              0\n",
      "to_messages                          0\n",
      "total_payments               309886585\n",
      "total_stock_value            434509511\n",
      "Name: TOTAL, dtype: object\n"
     ]
    }
   ],
   "source": [
    "print df.ix['TOTAL']\n",
    "#the poi of total is false, it disturb the analysis, we need to delete it."
   ]
  },
  {
   "cell_type": "code",
   "execution_count": 74,
   "metadata": {},
   "outputs": [],
   "source": [
    "df = df.drop('TOTAL', axis=0)"
   ]
  },
  {
   "cell_type": "code",
   "execution_count": 75,
   "metadata": {},
   "outputs": [
    {
     "name": "stdout",
     "output_type": "stream",
     "text": [
      "LAVORATO JOHN J\n"
     ]
    }
   ],
   "source": [
    "print df['bonus'].argmax()"
   ]
  },
  {
   "cell_type": "code",
   "execution_count": 76,
   "metadata": {},
   "outputs": [
    {
     "data": {
      "text/plain": [
       "<matplotlib.axes._subplots.AxesSubplot at 0xcd35668>"
      ]
     },
     "execution_count": 76,
     "metadata": {},
     "output_type": "execute_result"
    },
    {
     "data": {
      "image/png": "[encoded data removed]",
      "text/plain": [
       "<matplotlib.figure.Figure at 0x8ec70f0>"
      ]
     },
     "metadata": {},
     "output_type": "display_data"
    }
   ],
   "source": [
    "df.plot.box()"
   ]
  },
  {
   "cell_type": "code",
   "execution_count": 77,
   "metadata": {},
   "outputs": [
    {
     "name": "stdout",
     "output_type": "stream",
     "text": [
      "LAY KENNETH L\n"
     ]
    }
   ],
   "source": [
    "print df['total_payments'].argmax()"
   ]
  },
  {
   "cell_type": "code",
   "execution_count": 78,
   "metadata": {},
   "outputs": [
    {
     "name": "stdout",
     "output_type": "stream",
     "text": [
      "bonus                          7000000\n",
      "deferral_payments               202911\n",
      "deferred_income                -300000\n",
      "director_fees                        0\n",
      "exercised_stock_options       34348384\n",
      "expenses                         99832\n",
      "from_messages                       36\n",
      "from_poi_to_this_person            123\n",
      "from_this_person_to_poi             16\n",
      "loan_advances                 81525000\n",
      "long_term_incentive            3600000\n",
      "other                         10359729\n",
      "poi                               True\n",
      "restricted_stock              14761694\n",
      "restricted_stock_deferred            0\n",
      "salary                         1072321\n",
      "shared_receipt_with_poi           2411\n",
      "to_messages                       4273\n",
      "total_payments               103559793\n",
      "total_stock_value             49110078\n",
      "Name: LAY KENNETH L, dtype: object\n"
     ]
    }
   ],
   "source": [
    "print df.ix[df['total_payments'].argmax()]"
   ]
  },
  {
   "cell_type": "code",
   "execution_count": 79,
   "metadata": {},
   "outputs": [
    {
     "name": "stdout",
     "output_type": "stream",
     "text": [
      "LAY KENNETH L\n"
     ]
    }
   ],
   "source": [
    "print df['loan_advances'].argmax()"
   ]
  },
  {
   "cell_type": "code",
   "execution_count": 80,
   "metadata": {},
   "outputs": [
    {
     "name": "stdout",
     "output_type": "stream",
     "text": [
      "{'METTS MARK': {'salary': 365788L, 'to_messages': 807L, 'deferral_payments': 0L, 'total_payments': 1061827L, 'long_term_incentive': 0L, 'loan_advances': 0L, 'bonus': 600000L, 'restricted_stock_deferred': 0L, 'total_stock_value': 585062L, 'expenses': 94299L, 'from_poi_to_this_person': 38L, 'exercised_stock_options': 0L, 'from_messages': 29L, 'other': 1740L, 'from_this_person_to_poi': 1L, 'poi': False, 'deferred_income': 0L, 'shared_receipt_with_poi': 702L, 'restricted_stock': 585062L, 'director_fees': 0L}, 'BAXTER JOHN C': {'salary': 267102L, 'to_messages': 0L, 'deferral_payments': 1295738L, 'total_payments': 5634343L, 'long_term_incentive': 1586055L, 'loan_advances': 0L, 'bonus': 1200000L, 'restricted_stock_deferred': 0L, 'total_stock_value': 10623258L, 'expenses': 11200L, 'from_poi_to_this_person': 0L, 'exercised_stock_options': 6680544L, 'from_messages': 0L, 'other': 2660303L, 'from_this_person_to_poi': 0L, 'poi': False, 'deferred_income': -1386055L, 'shared_receipt_with_poi': 0L, 'restricted_stock': 3942714L, 'director_fees': 0L}, 'ELLIOTT STEVEN': {'salary': 170941L, 'to_messages': 0L, 'deferral_payments': 0L, 'total_payments': 211725L, 'long_term_incentive': 0L, 'loan_advances': 0L, 'bonus': 350000L, 'restricted_stock_deferred': 0L, 'total_stock_value': 6678735L, 'expenses': 78552L, 'from_poi_to_this_person': 0L, 'exercised_stock_options': 4890344L, 'from_messages': 0L, 'other': 12961L, 'from_this_person_to_poi': 0L, 'poi': False, 'deferred_income': -400729L, 'shared_receipt_with_poi': 0L, 'restricted_stock': 1788391L, 'director_fees': 0L}, 'CORDES WILLIAM R': {'salary': 0L, 'to_messages': 764L, 'deferral_payments': 0L, 'total_payments': 0L, 'long_term_incentive': 0L, 'loan_advances': 0L, 'bonus': 0L, 'restricted_stock_deferred': 0L, 'total_stock_value': 1038185L, 'expenses': 0L, 'from_poi_to_this_person': 10L, 'exercised_stock_options': 651850L, 'from_messages': 12L, 'other': 0L, 'from_this_person_to_poi': 0L, 'poi': False, 'deferred_income': 0L, 'shared_receipt_with_poi': 58L, 'restricted_stock': 386335L, 'director_fees': 0L}, 'HANNON KEVIN P': {'salary': 243293L, 'to_messages': 1045L, 'deferral_payments': 0L, 'total_payments': 288682L, 'long_term_incentive': 1617011L, 'loan_advances': 0L, 'bonus': 1500000L, 'restricted_stock_deferred': 0L, 'total_stock_value': 6391065L, 'expenses': 34039L, 'from_poi_to_this_person': 32L, 'exercised_stock_options': 5538001L, 'from_messages': 32L, 'other': 11350L, 'from_this_person_to_poi': 21L, 'poi': True, 'deferred_income': -3117011L, 'shared_receipt_with_poi': 1035L, 'restricted_stock': 853064L, 'director_fees': 0L}, 'MORDAUNT KRISTINA M': {'salary': 267093L, 'to_messages': 0L, 'deferral_payments': 0L, 'total_payments': 628522L, 'long_term_incentive': 0L, 'loan_advances': 0L, 'bonus': 325000L, 'restricted_stock_deferred': 0L, 'total_stock_value': 208510L, 'expenses': 35018L, 'from_poi_to_this_person': 0L, 'exercised_stock_options': 0L, 'from_messages': 0L, 'other': 1411L, 'from_this_person_to_poi': 0L, 'poi': False, 'deferred_income': 0L, 'shared_receipt_with_poi': 0L, 'restricted_stock': 208510L, 'director_fees': 0L}, 'MEYER ROCKFORD G': {'salary': 0L, 'to_messages': 232L, 'deferral_payments': 1848227L, 'total_payments': 1848227L, 'long_term_incentive': 0L, 'loan_advances': 0L, 'bonus': 0L, 'restricted_stock_deferred': 0L, 'total_stock_value': 955873L, 'expenses': 0L, 'from_poi_to_this_person': 0L, 'exercised_stock_options': 493489L, 'from_messages': 28L, 'other': 0L, 'from_this_person_to_poi': 0L, 'poi': False, 'deferred_income': 0L, 'shared_receipt_with_poi': 22L, 'restricted_stock': 462384L, 'director_fees': 0L}, 'MCMAHON JEFFREY': {'salary': 370448L, 'to_messages': 2355L, 'deferral_payments': 0L, 'total_payments': 4099771L, 'long_term_incentive': 694862L, 'loan_advances': 0L, 'bonus': 2600000L, 'restricted_stock_deferred': 0L, 'total_stock_value': 1662855L, 'expenses': 137108L, 'from_poi_to_this_person': 58L, 'exercised_stock_options': 1104054L, 'from_messages': 48L, 'other': 297353L, 'from_this_person_to_poi': 26L, 'poi': False, 'deferred_income': 0L, 'shared_receipt_with_poi': 2228L, 'restricted_stock': 558801L, 'director_fees': 0L}, 'HORTON STANLEY C': {'salary': 0L, 'to_messages': 2350L, 'deferral_payments': 3131860L, 'total_payments': 3131860L, 'long_term_incentive': 0L, 'loan_advances': 0L, 'bonus': 0L, 'restricted_stock_deferred': 0L, 'total_stock_value': 7256648L, 'expenses': 0L, 'from_poi_to_this_person': 44L, 'exercised_stock_options': 5210569L, 'from_messages': 1073L, 'other': 0L, 'from_this_person_to_poi': 15L, 'poi': False, 'deferred_income': 0L, 'shared_receipt_with_poi': 1074L, 'restricted_stock': 2046079L, 'director_fees': 0L}, 'PIPER GREGORY F': {'salary': 197091L, 'to_messages': 1238L, 'deferral_payments': 1130036L, 'total_payments': 1737629L, 'long_term_incentive': 0L, 'loan_advances': 0L, 'bonus': 400000L, 'restricted_stock_deferred': -409554L, 'total_stock_value': 880290L, 'expenses': 43057L, 'from_poi_to_this_person': 61L, 'exercised_stock_options': 880290L, 'from_messages': 222L, 'other': 778L, 'from_this_person_to_poi': 48L, 'poi': False, 'deferred_income': -33333L, 'shared_receipt_with_poi': 742L, 'restricted_stock': 409554L, 'director_fees': 0L}, 'HUMPHREY GENE E': {'salary': 130724L, 'to_messages': 128L, 'deferral_payments': 2964506L, 'total_payments': 3100224L, 'long_term_incentive': 0L, 'loan_advances': 0L, 'bonus': 0L, 'restricted_stock_deferred': 0L, 'total_stock_value': 2282768L, 'expenses': 4994L, 'from_poi_to_this_person': 10L, 'exercised_stock_options': 2282768L, 'from_messages': 17L, 'other': 0L, 'from_this_person_to_poi': 17L, 'poi': False, 'deferred_income': 0L, 'shared_receipt_with_poi': 119L, 'restricted_stock': 0L, 'director_fees': 0L}, 'UMANOFF ADAM S': {'salary': 288589L, 'to_messages': 111L, 'deferral_payments': 0L, 'total_payments': 1130461L, 'long_term_incentive': 0L, 'loan_advances': 0L, 'bonus': 788750L, 'restricted_stock_deferred': 0L, 'total_stock_value': 0L, 'expenses': 53122L, 'from_poi_to_this_person': 12L, 'exercised_stock_options': 0L, 'from_messages': 18L, 'other': 0L, 'from_this_person_to_poi': 0L, 'poi': False, 'deferred_income': 0L, 'shared_receipt_with_poi': 41L, 'restricted_stock': 0L, 'director_fees': 0L}, 'BLACHMAN JEREMY M': {'salary': 248546L, 'to_messages': 2475L, 'deferral_payments': 0L, 'total_payments': 2014835L, 'long_term_incentive': 831809L, 'loan_advances': 0L, 'bonus': 850000L, 'restricted_stock_deferred': 0L, 'total_stock_value': 954354L, 'expenses': 84208L, 'from_poi_to_this_person': 25L, 'exercised_stock_options': 765313L, 'from_messages': 14L, 'other': 272L, 'from_this_person_to_poi': 2L, 'poi': False, 'deferred_income': 0L, 'shared_receipt_with_poi': 2326L, 'restricted_stock': 189041L, 'director_fees': 0L}, 'SUNDE MARTIN': {'salary': 257486L, 'to_messages': 2647L, 'deferral_payments': 0L, 'total_payments': 1545059L, 'long_term_incentive': 476451L, 'loan_advances': 0L, 'bonus': 700000L, 'restricted_stock_deferred': 0L, 'total_stock_value': 698920L, 'expenses': 0L, 'from_poi_to_this_person': 37L, 'exercised_stock_options': 0L, 'from_messages': 38L, 'other': 111122L, 'from_this_person_to_poi': 13L, 'poi': False, 'deferred_income': 0L, 'shared_receipt_with_poi': 2565L, 'restricted_stock': 698920L, 'director_fees': 0L}, 'GIBBS DANA R': {'salary': 0L, 'to_messages': 169L, 'deferral_payments': 504610L, 'total_payments': 966522L, 'long_term_incentive': 461912L, 'loan_advances': 0L, 'bonus': 0L, 'restricted_stock_deferred': 0L, 'total_stock_value': 2218275L, 'expenses': 0L, 'from_poi_to_this_person': 0L, 'exercised_stock_options': 2218275L, 'from_messages': 12L, 'other': 0L, 'from_this_person_to_poi': 0L, 'poi': False, 'deferred_income': 0L, 'shared_receipt_with_poi': 23L, 'restricted_stock': 0L, 'director_fees': 0L}, 'LOWRY CHARLES P': {'salary': 0L, 'to_messages': 0L, 'deferral_payments': 0L, 'total_payments': 0L, 'long_term_incentive': 0L, 'loan_advances': 0L, 'bonus': 0L, 'restricted_stock_deferred': -153686L, 'total_stock_value': 372205L, 'expenses': 0L, 'from_poi_to_this_person': 0L, 'exercised_stock_options': 372205L, 'from_messages': 0L, 'other': 0L, 'from_this_person_to_poi': 0L, 'poi': False, 'deferred_income': 0L, 'shared_receipt_with_poi': 0L, 'restricted_stock': 153686L, 'director_fees': 0L}, 'COLWELL WESLEY': {'salary': 288542L, 'to_messages': 1758L, 'deferral_payments': 27610L, 'total_payments': 1490344L, 'long_term_incentive': 0L, 'loan_advances': 0L, 'bonus': 1200000L, 'restricted_stock_deferred': 0L, 'total_stock_value': 698242L, 'expenses': 16514L, 'from_poi_to_this_person': 240L, 'exercised_stock_options': 0L, 'from_messages': 40L, 'other': 101740L, 'from_this_person_to_poi': 11L, 'poi': True, 'deferred_income': -144062L, 'shared_receipt_with_poi': 1132L, 'restricted_stock': 698242L, 'director_fees': 0L}, 'MULLER MARK S': {'salary': 251654L, 'to_messages': 136L, 'deferral_payments': 842924L, 'total_payments': 3202070L, 'long_term_incentive': 1725545L, 'loan_advances': 0L, 'bonus': 1100000L, 'restricted_stock_deferred': 0L, 'total_stock_value': 1416848L, 'expenses': 0L, 'from_poi_to_this_person': 12L, 'exercised_stock_options': 1056320L, 'from_messages': 16L, 'other': 947L, 'from_this_person_to_poi': 0L, 'poi': False, 'deferred_income': -719000L, 'shared_receipt_with_poi': 114L, 'restricted_stock': 360528L, 'director_fees': 0L}, 'JACKSON CHARLENE R': {'salary': 288558L, 'to_messages': 258L, 'deferral_payments': 0L, 'total_payments': 551174L, 'long_term_incentive': 0L, 'loan_advances': 0L, 'bonus': 250000L, 'restricted_stock_deferred': 0L, 'total_stock_value': 725735L, 'expenses': 10181L, 'from_poi_to_this_person': 25L, 'exercised_stock_options': 185063L, 'from_messages': 56L, 'other': 2435L, 'from_this_person_to_poi': 19L, 'poi': False, 'deferred_income': 0L, 'shared_receipt_with_poi': 117L, 'restricted_stock': 540672L, 'director_fees': 0L}, 'WESTFAHL RICHARD K': {'salary': 63744L, 'to_messages': 0L, 'deferral_payments': 0L, 'total_payments': 762135L, 'long_term_incentive': 256191L, 'loan_advances': 0L, 'bonus': 0L, 'restricted_stock_deferred': 0L, 'total_stock_value': 384930L, 'expenses': 51870L, 'from_poi_to_this_person': 0L, 'exercised_stock_options': 0L, 'from_messages': 0L, 'other': 401130L, 'from_this_person_to_poi': 0L, 'poi': False, 'deferred_income': -10800L, 'shared_receipt_with_poi': 0L, 'restricted_stock': 384930L, 'director_fees': 0L}, 'WALTERS GARETH W': {'salary': 0L, 'to_messages': 0L, 'deferral_payments': 53625L, 'total_payments': 87410L, 'long_term_incentive': 0L, 'loan_advances': 0L, 'bonus': 0L, 'restricted_stock_deferred': 0L, 'total_stock_value': 1030329L, 'expenses': 33785L, 'from_poi_to_this_person': 0L, 'exercised_stock_options': 1030329L, 'from_messages': 0L, 'other': 0L, 'from_this_person_to_poi': 0L, 'poi': False, 'deferred_income': 0L, 'shared_receipt_with_poi': 0L, 'restricted_stock': 0L, 'director_fees': 0L}, 'WALLS JR ROBERT H': {'salary': 357091L, 'to_messages': 671L, 'deferral_payments': 0L, 'total_payments': 1798780L, 'long_term_incentive': 540751L, 'loan_advances': 0L, 'bonus': 850000L, 'restricted_stock_deferred': 0L, 'total_stock_value': 5898997L, 'expenses': 50936L, 'from_poi_to_this_person': 17L, 'exercised_stock_options': 4346544L, 'from_messages': 146L, 'other': 2L, 'from_this_person_to_poi': 0L, 'poi': False, 'deferred_income': 0L, 'shared_receipt_with_poi': 215L, 'restricted_stock': 1552453L, 'director_fees': 0L}, 'KITCHEN LOUISE': {'salary': 271442L, 'to_messages': 8305L, 'deferral_payments': 0L, 'total_payments': 3471141L, 'long_term_incentive': 0L, 'loan_advances': 0L, 'bonus': 3100000L, 'restricted_stock_deferred': 0L, 'total_stock_value': 547143L, 'expenses': 5774L, 'from_poi_to_this_person': 251L, 'exercised_stock_options': 81042L, 'from_messages': 1728L, 'other': 93925L, 'from_this_person_to_poi': 194L, 'poi': False, 'deferred_income': 0L, 'shared_receipt_with_poi': 3669L, 'restricted_stock': 466101L, 'director_fees': 0L}, 'CHAN RONNIE': {'salary': 0L, 'to_messages': 0L, 'deferral_payments': 0L, 'total_payments': 0L, 'long_term_incentive': 0L, 'loan_advances': 0L, 'bonus': 0L, 'restricted_stock_deferred': -32460L, 'total_stock_value': 0L, 'expenses': 0L, 'from_poi_to_this_person': 0L, 'exercised_stock_options': 0L, 'from_messages': 0L, 'other': 0L, 'from_this_person_to_poi': 0L, 'poi': False, 'deferred_income': -98784L, 'shared_receipt_with_poi': 0L, 'restricted_stock': 32460L, 'director_fees': 98784L}, 'BELFER ROBERT': {'salary': 0L, 'to_messages': 0L, 'deferral_payments': -102500L, 'total_payments': 102500L, 'long_term_incentive': 0L, 'loan_advances': 0L, 'bonus': 0L, 'restricted_stock_deferred': 44093L, 'total_stock_value': -44093L, 'expenses': 0L, 'from_poi_to_this_person': 0L, 'exercised_stock_options': 3285L, 'from_messages': 0L, 'other': 0L, 'from_this_person_to_poi': 0L, 'poi': False, 'deferred_income': 0L, 'shared_receipt_with_poi': 0L, 'restricted_stock': 0L, 'director_fees': 3285L}, 'SHANKMAN JEFFREY A': {'salary': 304110L, 'to_messages': 3221L, 'deferral_payments': 0L, 'total_payments': 3038702L, 'long_term_incentive': 554422L, 'loan_advances': 0L, 'bonus': 2000000L, 'restricted_stock_deferred': 0L, 'total_stock_value': 2072035L, 'expenses': 178979L, 'from_poi_to_this_person': 94L, 'exercised_stock_options': 1441898L, 'from_messages': 2681L, 'other': 1191L, 'from_this_person_to_poi': 83L, 'poi': False, 'deferred_income': 0L, 'shared_receipt_with_poi': 1730L, 'restricted_stock': 630137L, 'director_fees': 0L}, 'WODRASKA JOHN': {'salary': 0L, 'to_messages': 0L, 'deferral_payments': 0L, 'total_payments': 189583L, 'long_term_incentive': 0L, 'loan_advances': 0L, 'bonus': 0L, 'restricted_stock_deferred': 0L, 'total_stock_value': 0L, 'expenses': 0L, 'from_poi_to_this_person': 0L, 'exercised_stock_options': 0L, 'from_messages': 0L, 'other': 189583L, 'from_this_person_to_poi': 0L, 'poi': False, 'deferred_income': 0L, 'shared_receipt_with_poi': 0L, 'restricted_stock': 0L, 'director_fees': 0L}, 'BERGSIEKER RICHARD P': {'salary': 187922L, 'to_messages': 383L, 'deferral_payments': 0L, 'total_payments': 618850L, 'long_term_incentive': 180250L, 'loan_advances': 0L, 'bonus': 250000L, 'restricted_stock_deferred': 0L, 'total_stock_value': 659249L, 'expenses': 59175L, 'from_poi_to_this_person': 4L, 'exercised_stock_options': 0L, 'from_messages': 59L, 'other': 427316L, 'from_this_person_to_poi': 0L, 'poi': False, 'deferred_income': -485813L, 'shared_receipt_with_poi': 233L, 'restricted_stock': 659249L, 'director_fees': 0L}, 'URQUHART JOHN A': {'salary': 0L, 'to_messages': 0L, 'deferral_payments': 0L, 'total_payments': 228656L, 'long_term_incentive': 0L, 'loan_advances': 0L, 'bonus': 0L, 'restricted_stock_deferred': 0L, 'total_stock_value': 0L, 'expenses': 228656L, 'from_poi_to_this_person': 0L, 'exercised_stock_options': 0L, 'from_messages': 0L, 'other': 0L, 'from_this_person_to_poi': 0L, 'poi': False, 'deferred_income': -36666L, 'shared_receipt_with_poi': 0L, 'restricted_stock': 0L, 'director_fees': 36666L}, 'BIBI PHILIPPE A': {'salary': 213625L, 'to_messages': 1607L, 'deferral_payments': 0L, 'total_payments': 2047593L, 'long_term_incentive': 369721L, 'loan_advances': 0L, 'bonus': 1000000L, 'restricted_stock_deferred': 0L, 'total_stock_value': 1843816L, 'expenses': 38559L, 'from_poi_to_this_person': 23L, 'exercised_stock_options': 1465734L, 'from_messages': 40L, 'other': 425688L, 'from_this_person_to_poi': 8L, 'poi': False, 'deferred_income': 0L, 'shared_receipt_with_poi': 1336L, 'restricted_stock': 378082L, 'director_fees': 0L}, 'RIEKER PAULA H': {'salary': 249201L, 'to_messages': 1328L, 'deferral_payments': 214678L, 'total_payments': 1099100L, 'long_term_incentive': 0L, 'loan_advances': 0L, 'bonus': 700000L, 'restricted_stock_deferred': 0L, 'total_stock_value': 1918887L, 'expenses': 33271L, 'from_poi_to_this_person': 35L, 'exercised_stock_options': 1635238L, 'from_messages': 82L, 'other': 1950L, 'from_this_person_to_poi': 48L, 'poi': True, 'deferred_income': -100000L, 'shared_receipt_with_poi': 1258L, 'restricted_stock': 283649L, 'director_fees': 0L}, 'WHALEY DAVID A': {'salary': 0L, 'to_messages': 0L, 'deferral_payments': 0L, 'total_payments': 0L, 'long_term_incentive': 0L, 'loan_advances': 0L, 'bonus': 0L, 'restricted_stock_deferred': 0L, 'total_stock_value': 98718L, 'expenses': 0L, 'from_poi_to_this_person': 0L, 'exercised_stock_options': 98718L, 'from_messages': 0L, 'other': 0L, 'from_this_person_to_poi': 0L, 'poi': False, 'deferred_income': 0L, 'shared_receipt_with_poi': 0L, 'restricted_stock': 0L, 'director_fees': 0L}, 'BECK SALLY W': {'salary': 231330L, 'to_messages': 7315L, 'deferral_payments': 0L, 'total_payments': 969068L, 'long_term_incentive': 0L, 'loan_advances': 0L, 'bonus': 700000L, 'restricted_stock_deferred': 0L, 'total_stock_value': 126027L, 'expenses': 37172L, 'from_poi_to_this_person': 144L, 'exercised_stock_options': 0L, 'from_messages': 4343L, 'other': 566L, 'from_this_person_to_poi': 386L, 'poi': False, 'deferred_income': 0L, 'shared_receipt_with_poi': 2639L, 'restricted_stock': 126027L, 'director_fees': 0L}, 'HAUG DAVID L': {'salary': 0L, 'to_messages': 573L, 'deferral_payments': 0L, 'total_payments': 475L, 'long_term_incentive': 0L, 'loan_advances': 0L, 'bonus': 0L, 'restricted_stock_deferred': 0L, 'total_stock_value': 2217299L, 'expenses': 475L, 'from_poi_to_this_person': 4L, 'exercised_stock_options': 0L, 'from_messages': 19L, 'other': 0L, 'from_this_person_to_poi': 7L, 'poi': False, 'deferred_income': 0L, 'shared_receipt_with_poi': 471L, 'restricted_stock': 2217299L, 'director_fees': 0L}, 'ECHOLS JOHN B': {'salary': 182245L, 'to_messages': 0L, 'deferral_payments': 0L, 'total_payments': 2692324L, 'long_term_incentive': 2234774L, 'loan_advances': 0L, 'bonus': 200000L, 'restricted_stock_deferred': 0L, 'total_stock_value': 1008941L, 'expenses': 21530L, 'from_poi_to_this_person': 0L, 'exercised_stock_options': 601438L, 'from_messages': 0L, 'other': 53775L, 'from_this_person_to_poi': 0L, 'poi': False, 'deferred_income': 0L, 'shared_receipt_with_poi': 0L, 'restricted_stock': 407503L, 'director_fees': 0L}, 'MENDELSOHN JOHN': {'salary': 0L, 'to_messages': 0L, 'deferral_payments': 0L, 'total_payments': 148L, 'long_term_incentive': 0L, 'loan_advances': 0L, 'bonus': 0L, 'restricted_stock_deferred': 0L, 'total_stock_value': 0L, 'expenses': 148L, 'from_poi_to_this_person': 0L, 'exercised_stock_options': 0L, 'from_messages': 0L, 'other': 0L, 'from_this_person_to_poi': 0L, 'poi': False, 'deferred_income': -103750L, 'shared_receipt_with_poi': 0L, 'restricted_stock': 0L, 'director_fees': 103750L}, 'HICKERSON GARY J': {'salary': 211788L, 'to_messages': 1320L, 'deferral_payments': 0L, 'total_payments': 2081796L, 'long_term_incentive': 69223L, 'loan_advances': 0L, 'bonus': 1700000L, 'restricted_stock_deferred': 0L, 'total_stock_value': 441096L, 'expenses': 98849L, 'from_poi_to_this_person': 40L, 'exercised_stock_options': 0L, 'from_messages': 27L, 'other': 1936L, 'from_this_person_to_poi': 1L, 'poi': False, 'deferred_income': 0L, 'shared_receipt_with_poi': 900L, 'restricted_stock': 441096L, 'director_fees': 0L}, 'CLINE KENNETH W': {'salary': 0L, 'to_messages': 0L, 'deferral_payments': 0L, 'total_payments': 0L, 'long_term_incentive': 0L, 'loan_advances': 0L, 'bonus': 0L, 'restricted_stock_deferred': -472568L, 'total_stock_value': 189518L, 'expenses': 0L, 'from_poi_to_this_person': 0L, 'exercised_stock_options': 0L, 'from_messages': 0L, 'other': 0L, 'from_this_person_to_poi': 0L, 'poi': False, 'deferred_income': 0L, 'shared_receipt_with_poi': 0L, 'restricted_stock': 662086L, 'director_fees': 0L}, 'LEWIS RICHARD': {'salary': 0L, 'to_messages': 952L, 'deferral_payments': 0L, 'total_payments': 0L, 'long_term_incentive': 0L, 'loan_advances': 0L, 'bonus': 0L, 'restricted_stock_deferred': 0L, 'total_stock_value': 850477L, 'expenses': 0L, 'from_poi_to_this_person': 10L, 'exercised_stock_options': 850477L, 'from_messages': 26L, 'other': 0L, 'from_this_person_to_poi': 0L, 'poi': False, 'deferred_income': 0L, 'shared_receipt_with_poi': 739L, 'restricted_stock': 0L, 'director_fees': 0L}, 'HAYES ROBERT E': {'salary': 0L, 'to_messages': 504L, 'deferral_payments': 7961L, 'total_payments': 7961L, 'long_term_incentive': 0L, 'loan_advances': 0L, 'bonus': 0L, 'restricted_stock_deferred': 0L, 'total_stock_value': 151418L, 'expenses': 0L, 'from_poi_to_this_person': 16L, 'exercised_stock_options': 0L, 'from_messages': 12L, 'other': 0L, 'from_this_person_to_poi': 0L, 'poi': False, 'deferred_income': 0L, 'shared_receipt_with_poi': 50L, 'restricted_stock': 151418L, 'director_fees': 0L}, 'MCCARTY DANNY J': {'salary': 0L, 'to_messages': 1433L, 'deferral_payments': 0L, 'total_payments': 0L, 'long_term_incentive': 0L, 'loan_advances': 0L, 'bonus': 0L, 'restricted_stock_deferred': 0L, 'total_stock_value': 758931L, 'expenses': 0L, 'from_poi_to_this_person': 25L, 'exercised_stock_options': 664375L, 'from_messages': 215L, 'other': 0L, 'from_this_person_to_poi': 2L, 'poi': False, 'deferred_income': 0L, 'shared_receipt_with_poi': 508L, 'restricted_stock': 94556L, 'director_fees': 0L}, 'KOPPER MICHAEL J': {'salary': 224305L, 'to_messages': 0L, 'deferral_payments': 0L, 'total_payments': 2652612L, 'long_term_incentive': 602671L, 'loan_advances': 0L, 'bonus': 800000L, 'restricted_stock_deferred': 0L, 'total_stock_value': 985032L, 'expenses': 118134L, 'from_poi_to_this_person': 0L, 'exercised_stock_options': 0L, 'from_messages': 0L, 'other': 907502L, 'from_this_person_to_poi': 0L, 'poi': True, 'deferred_income': 0L, 'shared_receipt_with_poi': 0L, 'restricted_stock': 985032L, 'director_fees': 0L}, 'LEFF DANIEL P': {'salary': 273746L, 'to_messages': 2822L, 'deferral_payments': 0L, 'total_payments': 2664228L, 'long_term_incentive': 1387399L, 'loan_advances': 0L, 'bonus': 1000000L, 'restricted_stock_deferred': 0L, 'total_stock_value': 360528L, 'expenses': 0L, 'from_poi_to_this_person': 67L, 'exercised_stock_options': 0L, 'from_messages': 63L, 'other': 3083L, 'from_this_person_to_poi': 14L, 'poi': False, 'deferred_income': 0L, 'shared_receipt_with_poi': 2672L, 'restricted_stock': 360528L, 'director_fees': 0L}, 'LAVORATO JOHN J': {'salary': 339288L, 'to_messages': 7259L, 'deferral_payments': 0L, 'total_payments': 10425757L, 'long_term_incentive': 2035380L, 'loan_advances': 0L, 'bonus': 8000000L, 'restricted_stock_deferred': 0L, 'total_stock_value': 5167144L, 'expenses': 49537L, 'from_poi_to_this_person': 528L, 'exercised_stock_options': 4158995L, 'from_messages': 2585L, 'other': 1552L, 'from_this_person_to_poi': 411L, 'poi': False, 'deferred_income': 0L, 'shared_receipt_with_poi': 3962L, 'restricted_stock': 1008149L, 'director_fees': 0L}, 'BERBERIAN DAVID': {'salary': 216582L, 'to_messages': 0L, 'deferral_payments': 0L, 'total_payments': 228474L, 'long_term_incentive': 0L, 'loan_advances': 0L, 'bonus': 0L, 'restricted_stock_deferred': 0L, 'total_stock_value': 2493616L, 'expenses': 11892L, 'from_poi_to_this_person': 0L, 'exercised_stock_options': 1624396L, 'from_messages': 0L, 'other': 0L, 'from_this_person_to_poi': 0L, 'poi': False, 'deferred_income': 0L, 'shared_receipt_with_poi': 0L, 'restricted_stock': 869220L, 'director_fees': 0L}, 'DETMERING TIMOTHY J': {'salary': 210500L, 'to_messages': 0L, 'deferral_payments': 875307L, 'total_payments': 1204583L, 'long_term_incentive': 415657L, 'loan_advances': 0L, 'bonus': 425000L, 'restricted_stock_deferred': -315068L, 'total_stock_value': 2027865L, 'expenses': 52255L, 'from_poi_to_this_person': 0L, 'exercised_stock_options': 2027865L, 'from_messages': 0L, 'other': 1105L, 'from_this_person_to_poi': 0L, 'poi': False, 'deferred_income': -775241L, 'shared_receipt_with_poi': 0L, 'restricted_stock': 315068L, 'director_fees': 0L}, 'WAKEHAM JOHN': {'salary': 0L, 'to_messages': 0L, 'deferral_payments': 0L, 'total_payments': 213071L, 'long_term_incentive': 0L, 'loan_advances': 0L, 'bonus': 0L, 'restricted_stock_deferred': 0L, 'total_stock_value': 0L, 'expenses': 103773L, 'from_poi_to_this_person': 0L, 'exercised_stock_options': 0L, 'from_messages': 0L, 'other': 0L, 'from_this_person_to_poi': 0L, 'poi': False, 'deferred_income': 0L, 'shared_receipt_with_poi': 0L, 'restricted_stock': 0L, 'director_fees': 109298L}, 'POWERS WILLIAM': {'salary': 0L, 'to_messages': 653L, 'deferral_payments': 0L, 'total_payments': 0L, 'long_term_incentive': 0L, 'loan_advances': 0L, 'bonus': 0L, 'restricted_stock_deferred': 0L, 'total_stock_value': 0L, 'expenses': 0L, 'from_poi_to_this_person': 0L, 'exercised_stock_options': 0L, 'from_messages': 26L, 'other': 0L, 'from_this_person_to_poi': 0L, 'poi': False, 'deferred_income': -17500L, 'shared_receipt_with_poi': 12L, 'restricted_stock': 0L, 'director_fees': 17500L}, 'GOLD JOSEPH': {'salary': 272880L, 'to_messages': 0L, 'deferral_payments': 0L, 'total_payments': 2146973L, 'long_term_incentive': 304805L, 'loan_advances': 0L, 'bonus': 750000L, 'restricted_stock_deferred': 0L, 'total_stock_value': 877611L, 'expenses': 0L, 'from_poi_to_this_person': 0L, 'exercised_stock_options': 436515L, 'from_messages': 0L, 'other': 819288L, 'from_this_person_to_poi': 0L, 'poi': False, 'deferred_income': 0L, 'shared_receipt_with_poi': 0L, 'restricted_stock': 441096L, 'director_fees': 0L}, 'BANNANTINE JAMES M': {'salary': 477L, 'to_messages': 566L, 'deferral_payments': 0L, 'total_payments': 916197L, 'long_term_incentive': 0L, 'loan_advances': 0L, 'bonus': 0L, 'restricted_stock_deferred': -560222L, 'total_stock_value': 5243487L, 'expenses': 56301L, 'from_poi_to_this_person': 39L, 'exercised_stock_options': 4046157L, 'from_messages': 29L, 'other': 864523L, 'from_this_person_to_poi': 0L, 'poi': False, 'deferred_income': -5104L, 'shared_receipt_with_poi': 465L, 'restricted_stock': 1757552L, 'director_fees': 0L}, 'DUNCAN JOHN H': {'salary': 0L, 'to_messages': 0L, 'deferral_payments': 0L, 'total_payments': 77492L, 'long_term_incentive': 0L, 'loan_advances': 0L, 'bonus': 0L, 'restricted_stock_deferred': 0L, 'total_stock_value': 371750L, 'expenses': 0L, 'from_poi_to_this_person': 0L, 'exercised_stock_options': 371750L, 'from_messages': 0L, 'other': 0L, 'from_this_person_to_poi': 0L, 'poi': False, 'deferred_income': -25000L, 'shared_receipt_with_poi': 0L, 'restricted_stock': 0L, 'director_fees': 102492L}, 'SHAPIRO RICHARD S': {'salary': 269076L, 'to_messages': 15149L, 'deferral_payments': 0L, 'total_payments': 1057548L, 'long_term_incentive': 0L, 'loan_advances': 0L, 'bonus': 650000L, 'restricted_stock_deferred': 0L, 'total_stock_value': 987001L, 'expenses': 137767L, 'from_poi_to_this_person': 74L, 'exercised_stock_options': 607837L, 'from_messages': 1215L, 'other': 705L, 'from_this_person_to_poi': 65L, 'poi': False, 'deferred_income': 0L, 'shared_receipt_with_poi': 4527L, 'restricted_stock': 379164L, 'director_fees': 0L}, 'SHERRIFF JOHN R': {'salary': 428780L, 'to_messages': 3187L, 'deferral_payments': 0L, 'total_payments': 4335388L, 'long_term_incentive': 554422L, 'loan_advances': 0L, 'bonus': 1500000L, 'restricted_stock_deferred': 0L, 'total_stock_value': 3128982L, 'expenses': 0L, 'from_poi_to_this_person': 28L, 'exercised_stock_options': 1835558L, 'from_messages': 92L, 'other': 1852186L, 'from_this_person_to_poi': 23L, 'poi': False, 'deferred_income': 0L, 'shared_receipt_with_poi': 2103L, 'restricted_stock': 1293424L, 'director_fees': 0L}, 'SHELBY REX': {'salary': 211844L, 'to_messages': 225L, 'deferral_payments': 0L, 'total_payments': 2003885L, 'long_term_incentive': 0L, 'loan_advances': 0L, 'bonus': 200000L, 'restricted_stock_deferred': 0L, 'total_stock_value': 2493616L, 'expenses': 22884L, 'from_poi_to_this_person': 13L, 'exercised_stock_options': 1624396L, 'from_messages': 39L, 'other': 1573324L, 'from_this_person_to_poi': 14L, 'poi': True, 'deferred_income': -4167L, 'shared_receipt_with_poi': 91L, 'restricted_stock': 869220L, 'director_fees': 0L}, 'LEMAISTRE CHARLES': {'salary': 0L, 'to_messages': 0L, 'deferral_payments': 0L, 'total_payments': 87492L, 'long_term_incentive': 0L, 'loan_advances': 0L, 'bonus': 0L, 'restricted_stock_deferred': 0L, 'total_stock_value': 412878L, 'expenses': 0L, 'from_poi_to_this_person': 0L, 'exercised_stock_options': 412878L, 'from_messages': 0L, 'other': 0L, 'from_this_person_to_poi': 0L, 'poi': False, 'deferred_income': -25000L, 'shared_receipt_with_poi': 0L, 'restricted_stock': 0L, 'director_fees': 112492L}, 'DEFFNER JOSEPH M': {'salary': 206121L, 'to_messages': 714L, 'deferral_payments': 0L, 'total_payments': 1208649L, 'long_term_incentive': 335349L, 'loan_advances': 0L, 'bonus': 600000L, 'restricted_stock_deferred': 0L, 'total_stock_value': 159211L, 'expenses': 41626L, 'from_poi_to_this_person': 115L, 'exercised_stock_options': 17378L, 'from_messages': 74L, 'other': 25553L, 'from_this_person_to_poi': 4L, 'poi': False, 'deferred_income': 0L, 'shared_receipt_with_poi': 552L, 'restricted_stock': 141833L, 'director_fees': 0L}, 'KISHKILL JOSEPH G': {'salary': 174246L, 'to_messages': 0L, 'deferral_payments': 0L, 'total_payments': 704896L, 'long_term_incentive': 0L, 'loan_advances': 0L, 'bonus': 0L, 'restricted_stock_deferred': 0L, 'total_stock_value': 1034346L, 'expenses': 116335L, 'from_poi_to_this_person': 0L, 'exercised_stock_options': 0L, 'from_messages': 0L, 'other': 465357L, 'from_this_person_to_poi': 0L, 'poi': False, 'deferred_income': -51042L, 'shared_receipt_with_poi': 0L, 'restricted_stock': 1034346L, 'director_fees': 0L}, 'WHALLEY LAWRENCE G': {'salary': 510364L, 'to_messages': 6019L, 'deferral_payments': 0L, 'total_payments': 4677574L, 'long_term_incentive': 808346L, 'loan_advances': 0L, 'bonus': 3000000L, 'restricted_stock_deferred': 0L, 'total_stock_value': 6079137L, 'expenses': 57838L, 'from_poi_to_this_person': 186L, 'exercised_stock_options': 3282960L, 'from_messages': 556L, 'other': 301026L, 'from_this_person_to_poi': 24L, 'poi': False, 'deferred_income': 0L, 'shared_receipt_with_poi': 3920L, 'restricted_stock': 2796177L, 'director_fees': 0L}, 'MCCONNELL MICHAEL S': {'salary': 365038L, 'to_messages': 3329L, 'deferral_payments': 0L, 'total_payments': 2101364L, 'long_term_incentive': 554422L, 'loan_advances': 0L, 'bonus': 1100000L, 'restricted_stock_deferred': 0L, 'total_stock_value': 3101279L, 'expenses': 81364L, 'from_poi_to_this_person': 92L, 'exercised_stock_options': 1623010L, 'from_messages': 2742L, 'other': 540L, 'from_this_person_to_poi': 194L, 'poi': False, 'deferred_income': 0L, 'shared_receipt_with_poi': 2189L, 'restricted_stock': 1478269L, 'director_fees': 0L}, 'PIRO JIM': {'salary': 0L, 'to_messages': 58L, 'deferral_payments': 0L, 'total_payments': 0L, 'long_term_incentive': 0L, 'loan_advances': 0L, 'bonus': 0L, 'restricted_stock_deferred': 0L, 'total_stock_value': 47304L, 'expenses': 0L, 'from_poi_to_this_person': 0L, 'exercised_stock_options': 0L, 'from_messages': 16L, 'other': 0L, 'from_this_person_to_poi': 1L, 'poi': False, 'deferred_income': 0L, 'shared_receipt_with_poi': 3L, 'restricted_stock': 47304L, 'director_fees': 0L}, 'DELAINEY DAVID W': {'salary': 365163L, 'to_messages': 3093L, 'deferral_payments': 0L, 'total_payments': 4747979L, 'long_term_incentive': 1294981L, 'loan_advances': 0L, 'bonus': 3000000L, 'restricted_stock_deferred': 0L, 'total_stock_value': 3614261L, 'expenses': 86174L, 'from_poi_to_this_person': 66L, 'exercised_stock_options': 2291113L, 'from_messages': 3069L, 'other': 1661L, 'from_this_person_to_poi': 609L, 'poi': True, 'deferred_income': 0L, 'shared_receipt_with_poi': 2097L, 'restricted_stock': 1323148L, 'director_fees': 0L}, 'SULLIVAN-SHAKLOVITZ COLLEEN': {'salary': 162779L, 'to_messages': 0L, 'deferral_payments': 181993L, 'total_payments': 999356L, 'long_term_incentive': 554422L, 'loan_advances': 0L, 'bonus': 100000L, 'restricted_stock_deferred': 0L, 'total_stock_value': 1362375L, 'expenses': 0L, 'from_poi_to_this_person': 0L, 'exercised_stock_options': 1362375L, 'from_messages': 0L, 'other': 162L, 'from_this_person_to_poi': 0L, 'poi': False, 'deferred_income': 0L, 'shared_receipt_with_poi': 0L, 'restricted_stock': 0L, 'director_fees': 0L}, 'WROBEL BRUCE': {'salary': 0L, 'to_messages': 0L, 'deferral_payments': 0L, 'total_payments': 0L, 'long_term_incentive': 0L, 'loan_advances': 0L, 'bonus': 0L, 'restricted_stock_deferred': 0L, 'total_stock_value': 139130L, 'expenses': 0L, 'from_poi_to_this_person': 0L, 'exercised_stock_options': 139130L, 'from_messages': 0L, 'other': 0L, 'from_this_person_to_poi': 0L, 'poi': False, 'deferred_income': 0L, 'shared_receipt_with_poi': 0L, 'restricted_stock': 0L, 'director_fees': 0L}, 'LINDHOLM TOD A': {'salary': 236457L, 'to_messages': 0L, 'deferral_payments': 204075L, 'total_payments': 875889L, 'long_term_incentive': 175000L, 'loan_advances': 0L, 'bonus': 200000L, 'restricted_stock_deferred': 0L, 'total_stock_value': 3064208L, 'expenses': 57727L, 'from_poi_to_this_person': 0L, 'exercised_stock_options': 2549361L, 'from_messages': 0L, 'other': 2630L, 'from_this_person_to_poi': 0L, 'poi': False, 'deferred_income': 0L, 'shared_receipt_with_poi': 0L, 'restricted_stock': 514847L, 'director_fees': 0L}, 'MEYER JEROME J': {'salary': 0L, 'to_messages': 0L, 'deferral_payments': 0L, 'total_payments': 2151L, 'long_term_incentive': 0L, 'loan_advances': 0L, 'bonus': 0L, 'restricted_stock_deferred': 0L, 'total_stock_value': 0L, 'expenses': 2151L, 'from_poi_to_this_person': 0L, 'exercised_stock_options': 0L, 'from_messages': 0L, 'other': 0L, 'from_this_person_to_poi': 0L, 'poi': False, 'deferred_income': -38346L, 'shared_receipt_with_poi': 0L, 'restricted_stock': 0L, 'director_fees': 38346L}, 'LAY KENNETH L': {'salary': 1072321L, 'to_messages': 4273L, 'deferral_payments': 202911L, 'total_payments': 103559793L, 'long_term_incentive': 3600000L, 'loan_advances': 81525000L, 'bonus': 7000000L, 'restricted_stock_deferred': 0L, 'total_stock_value': 49110078L, 'expenses': 99832L, 'from_poi_to_this_person': 123L, 'exercised_stock_options': 34348384L, 'from_messages': 36L, 'other': 10359729L, 'from_this_person_to_poi': 16L, 'poi': True, 'deferred_income': -300000L, 'shared_receipt_with_poi': 2411L, 'restricted_stock': 14761694L, 'director_fees': 0L}, 'BUTTS ROBERT H': {'salary': 261516L, 'to_messages': 0L, 'deferral_payments': 0L, 'total_payments': 1271582L, 'long_term_incentive': 175000L, 'loan_advances': 0L, 'bonus': 750000L, 'restricted_stock_deferred': 0L, 'total_stock_value': 417619L, 'expenses': 9410L, 'from_poi_to_this_person': 0L, 'exercised_stock_options': 0L, 'from_messages': 0L, 'other': 150656L, 'from_this_person_to_poi': 0L, 'poi': False, 'deferred_income': -75000L, 'shared_receipt_with_poi': 0L, 'restricted_stock': 417619L, 'director_fees': 0L}, 'OLSON CINDY K': {'salary': 329078L, 'to_messages': 1184L, 'deferral_payments': 77716L, 'total_payments': 1321557L, 'long_term_incentive': 100000L, 'loan_advances': 0L, 'bonus': 750000L, 'restricted_stock_deferred': 0L, 'total_stock_value': 2606763L, 'expenses': 63791L, 'from_poi_to_this_person': 20L, 'exercised_stock_options': 1637034L, 'from_messages': 52L, 'other': 972L, 'from_this_person_to_poi': 15L, 'poi': False, 'deferred_income': 0L, 'shared_receipt_with_poi': 856L, 'restricted_stock': 969729L, 'director_fees': 0L}, 'MCDONALD REBECCA': {'salary': 0L, 'to_messages': 894L, 'deferral_payments': 0L, 'total_payments': 0L, 'long_term_incentive': 0L, 'loan_advances': 0L, 'bonus': 0L, 'restricted_stock_deferred': 0L, 'total_stock_value': 1691366L, 'expenses': 0L, 'from_poi_to_this_person': 54L, 'exercised_stock_options': 757301L, 'from_messages': 13L, 'other': 0L, 'from_this_person_to_poi': 1L, 'poi': False, 'deferred_income': 0L, 'shared_receipt_with_poi': 720L, 'restricted_stock': 934065L, 'director_fees': 0L}, 'CUMBERLAND MICHAEL S': {'salary': 184899L, 'to_messages': 0L, 'deferral_payments': 0L, 'total_payments': 807956L, 'long_term_incentive': 275000L, 'loan_advances': 0L, 'bonus': 325000L, 'restricted_stock_deferred': 0L, 'total_stock_value': 207940L, 'expenses': 22344L, 'from_poi_to_this_person': 0L, 'exercised_stock_options': 0L, 'from_messages': 0L, 'other': 713L, 'from_this_person_to_poi': 0L, 'poi': False, 'deferred_income': 0L, 'shared_receipt_with_poi': 0L, 'restricted_stock': 207940L, 'director_fees': 0L}, 'GAHN ROBERT S': {'salary': 192008L, 'to_messages': 0L, 'deferral_payments': 73122L, 'total_payments': 900585L, 'long_term_incentive': 0L, 'loan_advances': 0L, 'bonus': 509870L, 'restricted_stock_deferred': 0L, 'total_stock_value': 318607L, 'expenses': 50080L, 'from_poi_to_this_person': 0L, 'exercised_stock_options': 83237L, 'from_messages': 0L, 'other': 76547L, 'from_this_person_to_poi': 0L, 'poi': False, 'deferred_income': -1042L, 'shared_receipt_with_poi': 0L, 'restricted_stock': 235370L, 'director_fees': 0L}, 'MCCLELLAN GEORGE': {'salary': 263413L, 'to_messages': 1744L, 'deferral_payments': 0L, 'total_payments': 1318763L, 'long_term_incentive': 0L, 'loan_advances': 0L, 'bonus': 900000L, 'restricted_stock_deferred': 0L, 'total_stock_value': 947861L, 'expenses': 228763L, 'from_poi_to_this_person': 52L, 'exercised_stock_options': 506765L, 'from_messages': 49L, 'other': 51587L, 'from_this_person_to_poi': 0L, 'poi': False, 'deferred_income': -125000L, 'shared_receipt_with_poi': 1469L, 'restricted_stock': 441096L, 'director_fees': 0L}, 'HERMANN ROBERT J': {'salary': 262663L, 'to_messages': 0L, 'deferral_payments': 0L, 'total_payments': 1297461L, 'long_term_incentive': 150000L, 'loan_advances': 0L, 'bonus': 700000L, 'restricted_stock_deferred': 0L, 'total_stock_value': 668132L, 'expenses': 48357L, 'from_poi_to_this_person': 0L, 'exercised_stock_options': 187500L, 'from_messages': 0L, 'other': 416441L, 'from_this_person_to_poi': 0L, 'poi': False, 'deferred_income': -280000L, 'shared_receipt_with_poi': 0L, 'restricted_stock': 480632L, 'director_fees': 0L}, 'SCRIMSHAW MATTHEW': {'salary': 0L, 'to_messages': 0L, 'deferral_payments': 0L, 'total_payments': 0L, 'long_term_incentive': 0L, 'loan_advances': 0L, 'bonus': 0L, 'restricted_stock_deferred': 0L, 'total_stock_value': 759557L, 'expenses': 0L, 'from_poi_to_this_person': 0L, 'exercised_stock_options': 759557L, 'from_messages': 0L, 'other': 0L, 'from_this_person_to_poi': 0L, 'poi': False, 'deferred_income': 0L, 'shared_receipt_with_poi': 0L, 'restricted_stock': 0L, 'director_fees': 0L}, 'GATHMANN WILLIAM D': {'salary': 0L, 'to_messages': 0L, 'deferral_payments': 0L, 'total_payments': 0L, 'long_term_incentive': 0L, 'loan_advances': 0L, 'bonus': 0L, 'restricted_stock_deferred': -72419L, 'total_stock_value': 1945360L, 'expenses': 0L, 'from_poi_to_this_person': 0L, 'exercised_stock_options': 1753766L, 'from_messages': 0L, 'other': 0L, 'from_this_person_to_poi': 0L, 'poi': False, 'deferred_income': 0L, 'shared_receipt_with_poi': 0L, 'restricted_stock': 264013L, 'director_fees': 0L}, 'HAEDICKE MARK E': {'salary': 374125L, 'to_messages': 4009L, 'deferral_payments': 2157527L, 'total_payments': 3859065L, 'long_term_incentive': 983346L, 'loan_advances': 0L, 'bonus': 1150000L, 'restricted_stock_deferred': -329825L, 'total_stock_value': 803094L, 'expenses': 76169L, 'from_poi_to_this_person': 180L, 'exercised_stock_options': 608750L, 'from_messages': 1941L, 'other': 52382L, 'from_this_person_to_poi': 61L, 'poi': False, 'deferred_income': -934484L, 'shared_receipt_with_poi': 1847L, 'restricted_stock': 524169L, 'director_fees': 0L}, 'BOWEN JR RAYMOND M': {'salary': 278601L, 'to_messages': 1858L, 'deferral_payments': 0L, 'total_payments': 2669589L, 'long_term_incentive': 974293L, 'loan_advances': 0L, 'bonus': 1350000L, 'restricted_stock_deferred': 0L, 'total_stock_value': 252055L, 'expenses': 65907L, 'from_poi_to_this_person': 140L, 'exercised_stock_options': 0L, 'from_messages': 27L, 'other': 1621L, 'from_this_person_to_poi': 15L, 'poi': True, 'deferred_income': -833L, 'shared_receipt_with_poi': 1593L, 'restricted_stock': 252055L, 'director_fees': 0L}, 'GILLIS JOHN': {'salary': 0L, 'to_messages': 0L, 'deferral_payments': 0L, 'total_payments': 0L, 'long_term_incentive': 0L, 'loan_advances': 0L, 'bonus': 0L, 'restricted_stock_deferred': 0L, 'total_stock_value': 85641L, 'expenses': 0L, 'from_poi_to_this_person': 0L, 'exercised_stock_options': 9803L, 'from_messages': 0L, 'other': 0L, 'from_this_person_to_poi': 0L, 'poi': False, 'deferred_income': 0L, 'shared_receipt_with_poi': 0L, 'restricted_stock': 75838L, 'director_fees': 0L}, 'FITZGERALD JAY L': {'salary': 199157L, 'to_messages': 936L, 'deferral_payments': 0L, 'total_payments': 1414857L, 'long_term_incentive': 556416L, 'loan_advances': 0L, 'bonus': 350000L, 'restricted_stock_deferred': 0L, 'total_stock_value': 1621236L, 'expenses': 23870L, 'from_poi_to_this_person': 1L, 'exercised_stock_options': 664461L, 'from_messages': 16L, 'other': 285414L, 'from_this_person_to_poi': 8L, 'poi': False, 'deferred_income': 0L, 'shared_receipt_with_poi': 723L, 'restricted_stock': 956775L, 'director_fees': 0L}, 'MORAN MICHAEL P': {'salary': 0L, 'to_messages': 672L, 'deferral_payments': 0L, 'total_payments': 0L, 'long_term_incentive': 0L, 'loan_advances': 0L, 'bonus': 0L, 'restricted_stock_deferred': 0L, 'total_stock_value': 221141L, 'expenses': 0L, 'from_poi_to_this_person': 0L, 'exercised_stock_options': 59539L, 'from_messages': 19L, 'other': 0L, 'from_this_person_to_poi': 0L, 'poi': False, 'deferred_income': 0L, 'shared_receipt_with_poi': 127L, 'restricted_stock': 161602L, 'director_fees': 0L}, 'REDMOND BRIAN L': {'salary': 96840L, 'to_messages': 1671L, 'deferral_payments': 0L, 'total_payments': 111529L, 'long_term_incentive': 0L, 'loan_advances': 0L, 'bonus': 0L, 'restricted_stock_deferred': 0L, 'total_stock_value': 7890324L, 'expenses': 14689L, 'from_poi_to_this_person': 204L, 'exercised_stock_options': 7509039L, 'from_messages': 221L, 'other': 0L, 'from_this_person_to_poi': 49L, 'poi': False, 'deferred_income': 0L, 'shared_receipt_with_poi': 1063L, 'restricted_stock': 381285L, 'director_fees': 0L}, 'BAZELIDES PHILIP J': {'salary': 80818L, 'to_messages': 0L, 'deferral_payments': 684694L, 'total_payments': 860136L, 'long_term_incentive': 93750L, 'loan_advances': 0L, 'bonus': 0L, 'restricted_stock_deferred': 0L, 'total_stock_value': 1599641L, 'expenses': 0L, 'from_poi_to_this_person': 0L, 'exercised_stock_options': 1599641L, 'from_messages': 0L, 'other': 874L, 'from_this_person_to_poi': 0L, 'poi': False, 'deferred_income': 0L, 'shared_receipt_with_poi': 0L, 'restricted_stock': 0L, 'director_fees': 0L}, 'BELDEN TIMOTHY N': {'salary': 213999L, 'to_messages': 7991L, 'deferral_payments': 2144013L, 'total_payments': 5501630L, 'long_term_incentive': 0L, 'loan_advances': 0L, 'bonus': 5249999L, 'restricted_stock_deferred': 0L, 'total_stock_value': 1110705L, 'expenses': 17355L, 'from_poi_to_this_person': 228L, 'exercised_stock_options': 953136L, 'from_messages': 484L, 'other': 210698L, 'from_this_person_to_poi': 108L, 'poi': True, 'deferred_income': -2334434L, 'shared_receipt_with_poi': 5521L, 'restricted_stock': 157569L, 'director_fees': 0L}, 'DURAN WILLIAM D': {'salary': 210692L, 'to_messages': 904L, 'deferral_payments': 0L, 'total_payments': 2093263L, 'long_term_incentive': 1105218L, 'loan_advances': 0L, 'bonus': 750000L, 'restricted_stock_deferred': 0L, 'total_stock_value': 1640910L, 'expenses': 25785L, 'from_poi_to_this_person': 106L, 'exercised_stock_options': 1451869L, 'from_messages': 12L, 'other': 1568L, 'from_this_person_to_poi': 3L, 'poi': False, 'deferred_income': 0L, 'shared_receipt_with_poi': 599L, 'restricted_stock': 189041L, 'director_fees': 0L}, 'THORN TERENCE H': {'salary': 222093L, 'to_messages': 266L, 'deferral_payments': 16586L, 'total_payments': 911453L, 'long_term_incentive': 200000L, 'loan_advances': 0L, 'bonus': 0L, 'restricted_stock_deferred': 0L, 'total_stock_value': 4817796L, 'expenses': 46145L, 'from_poi_to_this_person': 0L, 'exercised_stock_options': 4452476L, 'from_messages': 41L, 'other': 426629L, 'from_this_person_to_poi': 0L, 'poi': False, 'deferred_income': 0L, 'shared_receipt_with_poi': 73L, 'restricted_stock': 365320L, 'director_fees': 0L}, 'FASTOW ANDREW S': {'salary': 440698L, 'to_messages': 0L, 'deferral_payments': 0L, 'total_payments': 2424083L, 'long_term_incentive': 1736055L, 'loan_advances': 0L, 'bonus': 1300000L, 'restricted_stock_deferred': 0L, 'total_stock_value': 1794412L, 'expenses': 55921L, 'from_poi_to_this_person': 0L, 'exercised_stock_options': 0L, 'from_messages': 0L, 'other': 277464L, 'from_this_person_to_poi': 0L, 'poi': True, 'deferred_income': -1386055L, 'shared_receipt_with_poi': 0L, 'restricted_stock': 1794412L, 'director_fees': 0L}, 'FOY JOE': {'salary': 0L, 'to_messages': 57L, 'deferral_payments': 181755L, 'total_payments': 181755L, 'long_term_incentive': 0L, 'loan_advances': 0L, 'bonus': 0L, 'restricted_stock_deferred': 0L, 'total_stock_value': 343434L, 'expenses': 0L, 'from_poi_to_this_person': 0L, 'exercised_stock_options': 343434L, 'from_messages': 13L, 'other': 0L, 'from_this_person_to_poi': 0L, 'poi': False, 'deferred_income': 0L, 'shared_receipt_with_poi': 2L, 'restricted_stock': 0L, 'director_fees': 0L}, 'CALGER CHRISTOPHER F': {'salary': 240189L, 'to_messages': 2598L, 'deferral_payments': 0L, 'total_payments': 1639297L, 'long_term_incentive': 375304L, 'loan_advances': 0L, 'bonus': 1250000L, 'restricted_stock_deferred': 0L, 'total_stock_value': 126027L, 'expenses': 35818L, 'from_poi_to_this_person': 199L, 'exercised_stock_options': 0L, 'from_messages': 144L, 'other': 486L, 'from_this_person_to_poi': 25L, 'poi': True, 'deferred_income': -262500L, 'shared_receipt_with_poi': 2188L, 'restricted_stock': 126027L, 'director_fees': 0L}, 'RICE KENNETH D': {'salary': 420636L, 'to_messages': 905L, 'deferral_payments': 0L, 'total_payments': 505050L, 'long_term_incentive': 1617011L, 'loan_advances': 0L, 'bonus': 1750000L, 'restricted_stock_deferred': 0L, 'total_stock_value': 22542539L, 'expenses': 46950L, 'from_poi_to_this_person': 42L, 'exercised_stock_options': 19794175L, 'from_messages': 18L, 'other': 174839L, 'from_this_person_to_poi': 4L, 'poi': True, 'deferred_income': -3504386L, 'shared_receipt_with_poi': 864L, 'restricted_stock': 2748364L, 'director_fees': 0L}, 'KAMINSKI WINCENTY J': {'salary': 275101L, 'to_messages': 4607L, 'deferral_payments': 0L, 'total_payments': 1086821L, 'long_term_incentive': 323466L, 'loan_advances': 0L, 'bonus': 400000L, 'restricted_stock_deferred': 0L, 'total_stock_value': 976037L, 'expenses': 83585L, 'from_poi_to_this_person': 41L, 'exercised_stock_options': 850010L, 'from_messages': 14368L, 'other': 4669L, 'from_this_person_to_poi': 171L, 'poi': False, 'deferred_income': 0L, 'shared_receipt_with_poi': 583L, 'restricted_stock': 126027L, 'director_fees': 0L}, 'LOCKHART EUGENE E': {'salary': 0L, 'to_messages': 0L, 'deferral_payments': 0L, 'total_payments': 0L, 'long_term_incentive': 0L, 'loan_advances': 0L, 'bonus': 0L, 'restricted_stock_deferred': 0L, 'total_stock_value': 0L, 'expenses': 0L, 'from_poi_to_this_person': 0L, 'exercised_stock_options': 0L, 'from_messages': 0L, 'other': 0L, 'from_this_person_to_poi': 0L, 'poi': False, 'deferred_income': 0L, 'shared_receipt_with_poi': 0L, 'restricted_stock': 0L, 'director_fees': 0L}, 'COX DAVID': {'salary': 314288L, 'to_messages': 102L, 'deferral_payments': 0L, 'total_payments': 1101393L, 'long_term_incentive': 0L, 'loan_advances': 0L, 'bonus': 800000L, 'restricted_stock_deferred': 0L, 'total_stock_value': 495633L, 'expenses': 27861L, 'from_poi_to_this_person': 0L, 'exercised_stock_options': 117551L, 'from_messages': 33L, 'other': 494L, 'from_this_person_to_poi': 4L, 'poi': False, 'deferred_income': -41250L, 'shared_receipt_with_poi': 71L, 'restricted_stock': 378082L, 'director_fees': 0L}, 'OVERDYKE JR JERE C': {'salary': 94941L, 'to_messages': 0L, 'deferral_payments': 0L, 'total_payments': 249787L, 'long_term_incentive': 135836L, 'loan_advances': 0L, 'bonus': 0L, 'restricted_stock_deferred': 0L, 'total_stock_value': 7307594L, 'expenses': 18834L, 'from_poi_to_this_person': 0L, 'exercised_stock_options': 5266578L, 'from_messages': 0L, 'other': 176L, 'from_this_person_to_poi': 0L, 'poi': False, 'deferred_income': 0L, 'shared_receipt_with_poi': 0L, 'restricted_stock': 2041016L, 'director_fees': 0L}, 'PEREIRA PAULO V. FERRAZ': {'salary': 0L, 'to_messages': 0L, 'deferral_payments': 0L, 'total_payments': 27942L, 'long_term_incentive': 0L, 'loan_advances': 0L, 'bonus': 0L, 'restricted_stock_deferred': 0L, 'total_stock_value': 0L, 'expenses': 27942L, 'from_poi_to_this_person': 0L, 'exercised_stock_options': 0L, 'from_messages': 0L, 'other': 0L, 'from_this_person_to_poi': 0L, 'poi': False, 'deferred_income': -101250L, 'shared_receipt_with_poi': 0L, 'restricted_stock': 0L, 'director_fees': 101250L}, 'STABLER FRANK': {'salary': 239502L, 'to_messages': 0L, 'deferral_payments': 0L, 'total_payments': 1112087L, 'long_term_incentive': 0L, 'loan_advances': 0L, 'bonus': 500000L, 'restricted_stock_deferred': 0L, 'total_stock_value': 511734L, 'expenses': 16514L, 'from_poi_to_this_person': 0L, 'exercised_stock_options': 0L, 'from_messages': 0L, 'other': 356071L, 'from_this_person_to_poi': 0L, 'poi': False, 'deferred_income': 0L, 'shared_receipt_with_poi': 0L, 'restricted_stock': 511734L, 'director_fees': 0L}, 'SKILLING JEFFREY K': {'salary': 1111258L, 'to_messages': 3627L, 'deferral_payments': 0L, 'total_payments': 8682716L, 'long_term_incentive': 1920000L, 'loan_advances': 0L, 'bonus': 5600000L, 'restricted_stock_deferred': 0L, 'total_stock_value': 26093672L, 'expenses': 29336L, 'from_poi_to_this_person': 88L, 'exercised_stock_options': 19250000L, 'from_messages': 108L, 'other': 22122L, 'from_this_person_to_poi': 30L, 'poi': True, 'deferred_income': 0L, 'shared_receipt_with_poi': 2042L, 'restricted_stock': 6843672L, 'director_fees': 0L}, 'BLAKE JR. NORMAN P': {'salary': 0L, 'to_messages': 0L, 'deferral_payments': 0L, 'total_payments': 1279L, 'long_term_incentive': 0L, 'loan_advances': 0L, 'bonus': 0L, 'restricted_stock_deferred': 0L, 'total_stock_value': 0L, 'expenses': 1279L, 'from_poi_to_this_person': 0L, 'exercised_stock_options': 0L, 'from_messages': 0L, 'other': 0L, 'from_this_person_to_poi': 0L, 'poi': False, 'deferred_income': -113784L, 'shared_receipt_with_poi': 0L, 'restricted_stock': 0L, 'director_fees': 113784L}, 'SHERRICK JEFFREY B': {'salary': 0L, 'to_messages': 613L, 'deferral_payments': 0L, 'total_payments': 0L, 'long_term_incentive': 0L, 'loan_advances': 0L, 'bonus': 0L, 'restricted_stock_deferred': 0L, 'total_stock_value': 1832468L, 'expenses': 0L, 'from_poi_to_this_person': 39L, 'exercised_stock_options': 1426469L, 'from_messages': 25L, 'other': 0L, 'from_this_person_to_poi': 18L, 'poi': False, 'deferred_income': 0L, 'shared_receipt_with_poi': 583L, 'restricted_stock': 405999L, 'director_fees': 0L}, 'PRENTICE JAMES': {'salary': 0L, 'to_messages': 0L, 'deferral_payments': 564348L, 'total_payments': 564348L, 'long_term_incentive': 0L, 'loan_advances': 0L, 'bonus': 0L, 'restricted_stock_deferred': 0L, 'total_stock_value': 1095040L, 'expenses': 0L, 'from_poi_to_this_person': 0L, 'exercised_stock_options': 886231L, 'from_messages': 0L, 'other': 0L, 'from_this_person_to_poi': 0L, 'poi': False, 'deferred_income': 0L, 'shared_receipt_with_poi': 0L, 'restricted_stock': 208809L, 'director_fees': 0L}, 'GRAY RODNEY': {'salary': 6615L, 'to_messages': 0L, 'deferral_payments': 93585L, 'total_payments': 1146658L, 'long_term_incentive': 365625L, 'loan_advances': 0L, 'bonus': 0L, 'restricted_stock_deferred': 0L, 'total_stock_value': 0L, 'expenses': 0L, 'from_poi_to_this_person': 0L, 'exercised_stock_options': 0L, 'from_messages': 0L, 'other': 680833L, 'from_this_person_to_poi': 0L, 'poi': False, 'deferred_income': 0L, 'shared_receipt_with_poi': 0L, 'restricted_stock': 0L, 'director_fees': 0L}, 'PICKERING MARK R': {'salary': 655037L, 'to_messages': 898L, 'deferral_payments': 0L, 'total_payments': 1386690L, 'long_term_incentive': 0L, 'loan_advances': 400000L, 'bonus': 300000L, 'restricted_stock_deferred': 0L, 'total_stock_value': 28798L, 'expenses': 31653L, 'from_poi_to_this_person': 7L, 'exercised_stock_options': 28798L, 'from_messages': 67L, 'other': 0L, 'from_this_person_to_poi': 0L, 'poi': False, 'deferred_income': 0L, 'shared_receipt_with_poi': 728L, 'restricted_stock': 0L, 'director_fees': 0L}, 'THE TRAVEL AGENCY IN THE PARK': {'salary': 0L, 'to_messages': 0L, 'deferral_payments': 0L, 'total_payments': 362096L, 'long_term_incentive': 0L, 'loan_advances': 0L, 'bonus': 0L, 'restricted_stock_deferred': 0L, 'total_stock_value': 0L, 'expenses': 0L, 'from_poi_to_this_person': 0L, 'exercised_stock_options': 0L, 'from_messages': 0L, 'other': 362096L, 'from_this_person_to_poi': 0L, 'poi': False, 'deferred_income': 0L, 'shared_receipt_with_poi': 0L, 'restricted_stock': 0L, 'director_fees': 0L}, 'NOLES JAMES L': {'salary': 0L, 'to_messages': 0L, 'deferral_payments': 774401L, 'total_payments': 774401L, 'long_term_incentive': 0L, 'loan_advances': 0L, 'bonus': 0L, 'restricted_stock_deferred': -94556L, 'total_stock_value': 368705L, 'expenses': 0L, 'from_poi_to_this_person': 0L, 'exercised_stock_options': 0L, 'from_messages': 0L, 'other': 0L, 'from_this_person_to_poi': 0L, 'poi': False, 'deferred_income': 0L, 'shared_receipt_with_poi': 0L, 'restricted_stock': 463261L, 'director_fees': 0L}, 'KEAN STEVEN J': {'salary': 404338L, 'to_messages': 12754L, 'deferral_payments': 0L, 'total_payments': 1747522L, 'long_term_incentive': 300000L, 'loan_advances': 0L, 'bonus': 1000000L, 'restricted_stock_deferred': 0L, 'total_stock_value': 6153642L, 'expenses': 41953L, 'from_poi_to_this_person': 140L, 'exercised_stock_options': 2022048L, 'from_messages': 6759L, 'other': 1231L, 'from_this_person_to_poi': 387L, 'poi': False, 'deferred_income': 0L, 'shared_receipt_with_poi': 3639L, 'restricted_stock': 4131594L, 'director_fees': 0L}, 'FOWLER PEGGY': {'salary': 0L, 'to_messages': 517L, 'deferral_payments': 0L, 'total_payments': 0L, 'long_term_incentive': 0L, 'loan_advances': 0L, 'bonus': 0L, 'restricted_stock_deferred': 0L, 'total_stock_value': 1884748L, 'expenses': 0L, 'from_poi_to_this_person': 0L, 'exercised_stock_options': 1324578L, 'from_messages': 36L, 'other': 0L, 'from_this_person_to_poi': 0L, 'poi': False, 'deferred_income': 0L, 'shared_receipt_with_poi': 10L, 'restricted_stock': 560170L, 'director_fees': 0L}, 'WASAFF GEORGE': {'salary': 259996L, 'to_messages': 400L, 'deferral_payments': 831299L, 'total_payments': 1034395L, 'long_term_incentive': 200000L, 'loan_advances': 0L, 'bonus': 325000L, 'restricted_stock_deferred': 0L, 'total_stock_value': 2056427L, 'expenses': 0L, 'from_poi_to_this_person': 22L, 'exercised_stock_options': 1668260L, 'from_messages': 30L, 'other': 1425L, 'from_this_person_to_poi': 7L, 'poi': False, 'deferred_income': -583325L, 'shared_receipt_with_poi': 337L, 'restricted_stock': 388167L, 'director_fees': 0L}, 'WHITE JR THOMAS E': {'salary': 317543L, 'to_messages': 0L, 'deferral_payments': 0L, 'total_payments': 1934359L, 'long_term_incentive': 0L, 'loan_advances': 0L, 'bonus': 450000L, 'restricted_stock_deferred': 0L, 'total_stock_value': 15144123L, 'expenses': 81353L, 'from_poi_to_this_person': 0L, 'exercised_stock_options': 1297049L, 'from_messages': 0L, 'other': 1085463L, 'from_this_person_to_poi': 0L, 'poi': False, 'deferred_income': 0L, 'shared_receipt_with_poi': 0L, 'restricted_stock': 13847074L, 'director_fees': 0L}, 'CHRISTODOULOU DIOMEDES': {'salary': 0L, 'to_messages': 0L, 'deferral_payments': 0L, 'total_payments': 0L, 'long_term_incentive': 0L, 'loan_advances': 0L, 'bonus': 0L, 'restricted_stock_deferred': 0L, 'total_stock_value': 6077885L, 'expenses': 0L, 'from_poi_to_this_person': 0L, 'exercised_stock_options': 5127155L, 'from_messages': 0L, 'other': 0L, 'from_this_person_to_poi': 0L, 'poi': False, 'deferred_income': 0L, 'shared_receipt_with_poi': 0L, 'restricted_stock': 950730L, 'director_fees': 0L}, 'ALLEN PHILLIP K': {'salary': 201955L, 'to_messages': 2902L, 'deferral_payments': 2869717L, 'total_payments': 4484442L, 'long_term_incentive': 304805L, 'loan_advances': 0L, 'bonus': 4175000L, 'restricted_stock_deferred': -126027L, 'total_stock_value': 1729541L, 'expenses': 13868L, 'from_poi_to_this_person': 47L, 'exercised_stock_options': 1729541L, 'from_messages': 2195L, 'other': 152L, 'from_this_person_to_poi': 65L, 'poi': False, 'deferred_income': -3081055L, 'shared_receipt_with_poi': 1407L, 'restricted_stock': 126027L, 'director_fees': 0L}, 'SHARP VICTORIA T': {'salary': 248146L, 'to_messages': 3136L, 'deferral_payments': 187469L, 'total_payments': 1576511L, 'long_term_incentive': 422158L, 'loan_advances': 0L, 'bonus': 600000L, 'restricted_stock_deferred': 0L, 'total_stock_value': 494136L, 'expenses': 116337L, 'from_poi_to_this_person': 24L, 'exercised_stock_options': 281073L, 'from_messages': 136L, 'other': 2401L, 'from_this_person_to_poi': 6L, 'poi': False, 'deferred_income': 0L, 'shared_receipt_with_poi': 2477L, 'restricted_stock': 213063L, 'director_fees': 0L}, 'JAEDICKE ROBERT': {'salary': 0L, 'to_messages': 0L, 'deferral_payments': 0L, 'total_payments': 83750L, 'long_term_incentive': 0L, 'loan_advances': 0L, 'bonus': 0L, 'restricted_stock_deferred': -44093L, 'total_stock_value': 431750L, 'expenses': 0L, 'from_poi_to_this_person': 0L, 'exercised_stock_options': 431750L, 'from_messages': 0L, 'other': 0L, 'from_this_person_to_poi': 0L, 'poi': False, 'deferred_income': -25000L, 'shared_receipt_with_poi': 0L, 'restricted_stock': 44093L, 'director_fees': 108750L}, 'WINOKUR JR. HERBERT S': {'salary': 0L, 'to_messages': 0L, 'deferral_payments': 0L, 'total_payments': 84992L, 'long_term_incentive': 0L, 'loan_advances': 0L, 'bonus': 0L, 'restricted_stock_deferred': 0L, 'total_stock_value': 0L, 'expenses': 1413L, 'from_poi_to_this_person': 0L, 'exercised_stock_options': 0L, 'from_messages': 0L, 'other': 0L, 'from_this_person_to_poi': 0L, 'poi': False, 'deferred_income': -25000L, 'shared_receipt_with_poi': 0L, 'restricted_stock': 0L, 'director_fees': 108579L}, 'BROWN MICHAEL': {'salary': 0L, 'to_messages': 1486L, 'deferral_payments': 0L, 'total_payments': 49288L, 'long_term_incentive': 0L, 'loan_advances': 0L, 'bonus': 0L, 'restricted_stock_deferred': 0L, 'total_stock_value': 0L, 'expenses': 49288L, 'from_poi_to_this_person': 13L, 'exercised_stock_options': 0L, 'from_messages': 41L, 'other': 0L, 'from_this_person_to_poi': 1L, 'poi': False, 'deferred_income': 0L, 'shared_receipt_with_poi': 761L, 'restricted_stock': 0L, 'director_fees': 0L}, 'BADUM JAMES P': {'salary': 0L, 'to_messages': 0L, 'deferral_payments': 178980L, 'total_payments': 182466L, 'long_term_incentive': 0L, 'loan_advances': 0L, 'bonus': 0L, 'restricted_stock_deferred': 0L, 'total_stock_value': 257817L, 'expenses': 3486L, 'from_poi_to_this_person': 0L, 'exercised_stock_options': 257817L, 'from_messages': 0L, 'other': 0L, 'from_this_person_to_poi': 0L, 'poi': False, 'deferred_income': 0L, 'shared_receipt_with_poi': 0L, 'restricted_stock': 0L, 'director_fees': 0L}, 'HUGHES JAMES A': {'salary': 0L, 'to_messages': 719L, 'deferral_payments': 0L, 'total_payments': 0L, 'long_term_incentive': 0L, 'loan_advances': 0L, 'bonus': 0L, 'restricted_stock_deferred': 0L, 'total_stock_value': 1118394L, 'expenses': 0L, 'from_poi_to_this_person': 35L, 'exercised_stock_options': 754966L, 'from_messages': 34L, 'other': 0L, 'from_this_person_to_poi': 5L, 'poi': False, 'deferred_income': 0L, 'shared_receipt_with_poi': 589L, 'restricted_stock': 363428L, 'director_fees': 0L}, 'REYNOLDS LAWRENCE': {'salary': 76399L, 'to_messages': 0L, 'deferral_payments': 51365L, 'total_payments': 394475L, 'long_term_incentive': 156250L, 'loan_advances': 0L, 'bonus': 100000L, 'restricted_stock_deferred': -140264L, 'total_stock_value': 4221891L, 'expenses': 8409L, 'from_poi_to_this_person': 0L, 'exercised_stock_options': 4160672L, 'from_messages': 0L, 'other': 202052L, 'from_this_person_to_poi': 0L, 'poi': False, 'deferred_income': -200000L, 'shared_receipt_with_poi': 0L, 'restricted_stock': 201483L, 'director_fees': 0L}, 'DIMICHELE RICHARD G': {'salary': 262788L, 'to_messages': 0L, 'deferral_payments': 0L, 'total_payments': 2368151L, 'long_term_incentive': 694862L, 'loan_advances': 0L, 'bonus': 1000000L, 'restricted_stock_deferred': 0L, 'total_stock_value': 8317782L, 'expenses': 35812L, 'from_poi_to_this_person': 0L, 'exercised_stock_options': 8191755L, 'from_messages': 0L, 'other': 374689L, 'from_this_person_to_poi': 0L, 'poi': False, 'deferred_income': 0L, 'shared_receipt_with_poi': 0L, 'restricted_stock': 126027L, 'director_fees': 0L}, 'BHATNAGAR SANJAY': {'salary': 0L, 'to_messages': 523L, 'deferral_payments': 0L, 'total_payments': 15456290L, 'long_term_incentive': 0L, 'loan_advances': 0L, 'bonus': 0L, 'restricted_stock_deferred': 15456290L, 'total_stock_value': 0L, 'expenses': 0L, 'from_poi_to_this_person': 0L, 'exercised_stock_options': 2604490L, 'from_messages': 29L, 'other': 137864L, 'from_this_person_to_poi': 1L, 'poi': False, 'deferred_income': 0L, 'shared_receipt_with_poi': 463L, 'restricted_stock': -2604490L, 'director_fees': 137864L}, 'CARTER REBECCA C': {'salary': 261809L, 'to_messages': 312L, 'deferral_payments': 0L, 'total_payments': 477557L, 'long_term_incentive': 75000L, 'loan_advances': 0L, 'bonus': 300000L, 'restricted_stock_deferred': -307301L, 'total_stock_value': 0L, 'expenses': 0L, 'from_poi_to_this_person': 29L, 'exercised_stock_options': 0L, 'from_messages': 15L, 'other': 540L, 'from_this_person_to_poi': 7L, 'poi': False, 'deferred_income': -159792L, 'shared_receipt_with_poi': 196L, 'restricted_stock': 307301L, 'director_fees': 0L}, 'BUCHANAN HAROLD G': {'salary': 248017L, 'to_messages': 1088L, 'deferral_payments': 0L, 'total_payments': 1054637L, 'long_term_incentive': 304805L, 'loan_advances': 0L, 'bonus': 500000L, 'restricted_stock_deferred': 0L, 'total_stock_value': 1014505L, 'expenses': 600L, 'from_poi_to_this_person': 0L, 'exercised_stock_options': 825464L, 'from_messages': 125L, 'other': 1215L, 'from_this_person_to_poi': 0L, 'poi': False, 'deferred_income': 0L, 'shared_receipt_with_poi': 23L, 'restricted_stock': 189041L, 'director_fees': 0L}, 'YEAP SOON': {'salary': 0L, 'to_messages': 0L, 'deferral_payments': 0L, 'total_payments': 55097L, 'long_term_incentive': 0L, 'loan_advances': 0L, 'bonus': 0L, 'restricted_stock_deferred': 0L, 'total_stock_value': 192758L, 'expenses': 55097L, 'from_poi_to_this_person': 0L, 'exercised_stock_options': 192758L, 'from_messages': 0L, 'other': 0L, 'from_this_person_to_poi': 0L, 'poi': False, 'deferred_income': 0L, 'shared_receipt_with_poi': 0L, 'restricted_stock': 0L, 'director_fees': 0L}, 'MURRAY JULIA H': {'salary': 229284L, 'to_messages': 2192L, 'deferral_payments': 0L, 'total_payments': 812194L, 'long_term_incentive': 125000L, 'loan_advances': 0L, 'bonus': 400000L, 'restricted_stock_deferred': 0L, 'total_stock_value': 597461L, 'expenses': 57580L, 'from_poi_to_this_person': 11L, 'exercised_stock_options': 400478L, 'from_messages': 45L, 'other': 330L, 'from_this_person_to_poi': 2L, 'poi': False, 'deferred_income': 0L, 'shared_receipt_with_poi': 395L, 'restricted_stock': 196983L, 'director_fees': 0L}, 'GARLAND C KEVIN': {'salary': 231946L, 'to_messages': 209L, 'deferral_payments': 0L, 'total_payments': 1566469L, 'long_term_incentive': 375304L, 'loan_advances': 0L, 'bonus': 850000L, 'restricted_stock_deferred': 0L, 'total_stock_value': 896153L, 'expenses': 48405L, 'from_poi_to_this_person': 10L, 'exercised_stock_options': 636246L, 'from_messages': 44L, 'other': 60814L, 'from_this_person_to_poi': 27L, 'poi': False, 'deferred_income': 0L, 'shared_receipt_with_poi': 178L, 'restricted_stock': 259907L, 'director_fees': 0L}, 'DODSON KEITH': {'salary': 221003L, 'to_messages': 176L, 'deferral_payments': 0L, 'total_payments': 319941L, 'long_term_incentive': 0L, 'loan_advances': 0L, 'bonus': 70000L, 'restricted_stock_deferred': 0L, 'total_stock_value': 0L, 'expenses': 28164L, 'from_poi_to_this_person': 10L, 'exercised_stock_options': 0L, 'from_messages': 14L, 'other': 774L, 'from_this_person_to_poi': 3L, 'poi': False, 'deferred_income': 0L, 'shared_receipt_with_poi': 114L, 'restricted_stock': 0L, 'director_fees': 0L}, 'YEAGER F SCOTT': {'salary': 158403L, 'to_messages': 0L, 'deferral_payments': 0L, 'total_payments': 360300L, 'long_term_incentive': 0L, 'loan_advances': 0L, 'bonus': 0L, 'restricted_stock_deferred': 0L, 'total_stock_value': 11884758L, 'expenses': 53947L, 'from_poi_to_this_person': 0L, 'exercised_stock_options': 8308552L, 'from_messages': 0L, 'other': 147950L, 'from_this_person_to_poi': 0L, 'poi': True, 'deferred_income': 0L, 'shared_receipt_with_poi': 0L, 'restricted_stock': 3576206L, 'director_fees': 0L}, 'HIRKO JOSEPH': {'salary': 0L, 'to_messages': 0L, 'deferral_payments': 10259L, 'total_payments': 91093L, 'long_term_incentive': 0L, 'loan_advances': 0L, 'bonus': 0L, 'restricted_stock_deferred': 0L, 'total_stock_value': 30766064L, 'expenses': 77978L, 'from_poi_to_this_person': 0L, 'exercised_stock_options': 30766064L, 'from_messages': 0L, 'other': 2856L, 'from_this_person_to_poi': 0L, 'poi': True, 'deferred_income': 0L, 'shared_receipt_with_poi': 0L, 'restricted_stock': 0L, 'director_fees': 0L}, 'DIETRICH JANET R': {'salary': 250100L, 'to_messages': 2572L, 'deferral_payments': 0L, 'total_payments': 1410464L, 'long_term_incentive': 556416L, 'loan_advances': 0L, 'bonus': 600000L, 'restricted_stock_deferred': 0L, 'total_stock_value': 1865087L, 'expenses': 3475L, 'from_poi_to_this_person': 305L, 'exercised_stock_options': 1550019L, 'from_messages': 63L, 'other': 473L, 'from_this_person_to_poi': 14L, 'poi': False, 'deferred_income': 0L, 'shared_receipt_with_poi': 1902L, 'restricted_stock': 315068L, 'director_fees': 0L}, 'DERRICK JR. JAMES V': {'salary': 492375L, 'to_messages': 2181L, 'deferral_payments': 0L, 'total_payments': 550981L, 'long_term_incentive': 484000L, 'loan_advances': 0L, 'bonus': 800000L, 'restricted_stock_deferred': -1787380L, 'total_stock_value': 8831913L, 'expenses': 51124L, 'from_poi_to_this_person': 64L, 'exercised_stock_options': 8831913L, 'from_messages': 909L, 'other': 7482L, 'from_this_person_to_poi': 20L, 'poi': False, 'deferred_income': -1284000L, 'shared_receipt_with_poi': 1401L, 'restricted_stock': 1787380L, 'director_fees': 0L}, 'FREVERT MARK A': {'salary': 1060932L, 'to_messages': 3275L, 'deferral_payments': 6426990L, 'total_payments': 17252530L, 'long_term_incentive': 1617011L, 'loan_advances': 2000000L, 'bonus': 2000000L, 'restricted_stock_deferred': 0L, 'total_stock_value': 14622185L, 'expenses': 86987L, 'from_poi_to_this_person': 242L, 'exercised_stock_options': 10433518L, 'from_messages': 21L, 'other': 7427621L, 'from_this_person_to_poi': 6L, 'poi': False, 'deferred_income': -3367011L, 'shared_receipt_with_poi': 2979L, 'restricted_stock': 4188667L, 'director_fees': 0L}, 'PAI LOU L': {'salary': 261879L, 'to_messages': 0L, 'deferral_payments': 0L, 'total_payments': 3123383L, 'long_term_incentive': 0L, 'loan_advances': 0L, 'bonus': 1000000L, 'restricted_stock_deferred': 0L, 'total_stock_value': 23817930L, 'expenses': 32047L, 'from_poi_to_this_person': 0L, 'exercised_stock_options': 15364167L, 'from_messages': 0L, 'other': 1829457L, 'from_this_person_to_poi': 0L, 'poi': False, 'deferred_income': 0L, 'shared_receipt_with_poi': 0L, 'restricted_stock': 8453763L, 'director_fees': 0L}, 'BAY FRANKLIN R': {'salary': 239671L, 'to_messages': 0L, 'deferral_payments': 260455L, 'total_payments': 827696L, 'long_term_incentive': 0L, 'loan_advances': 0L, 'bonus': 400000L, 'restricted_stock_deferred': -82782L, 'total_stock_value': 63014L, 'expenses': 129142L, 'from_poi_to_this_person': 0L, 'exercised_stock_options': 0L, 'from_messages': 0L, 'other': 69L, 'from_this_person_to_poi': 0L, 'poi': False, 'deferred_income': -201641L, 'shared_receipt_with_poi': 0L, 'restricted_stock': 145796L, 'director_fees': 0L}, 'HAYSLETT RODERICK J': {'salary': 0L, 'to_messages': 2649L, 'deferral_payments': 0L, 'total_payments': 0L, 'long_term_incentive': 0L, 'loan_advances': 0L, 'bonus': 0L, 'restricted_stock_deferred': 0L, 'total_stock_value': 346663L, 'expenses': 0L, 'from_poi_to_this_person': 35L, 'exercised_stock_options': 0L, 'from_messages': 1061L, 'other': 0L, 'from_this_person_to_poi': 38L, 'poi': False, 'deferred_income': 0L, 'shared_receipt_with_poi': 571L, 'restricted_stock': 346663L, 'director_fees': 0L}, 'FUGH JOHN L': {'salary': 0L, 'to_messages': 0L, 'deferral_payments': 50591L, 'total_payments': 50591L, 'long_term_incentive': 0L, 'loan_advances': 0L, 'bonus': 0L, 'restricted_stock_deferred': 0L, 'total_stock_value': 176378L, 'expenses': 0L, 'from_poi_to_this_person': 0L, 'exercised_stock_options': 176378L, 'from_messages': 0L, 'other': 0L, 'from_this_person_to_poi': 0L, 'poi': False, 'deferred_income': 0L, 'shared_receipt_with_poi': 0L, 'restricted_stock': 0L, 'director_fees': 0L}, 'FALLON JAMES B': {'salary': 304588L, 'to_messages': 1755L, 'deferral_payments': 0L, 'total_payments': 3676340L, 'long_term_incentive': 374347L, 'loan_advances': 0L, 'bonus': 2500000L, 'restricted_stock_deferred': 0L, 'total_stock_value': 2332399L, 'expenses': 95924L, 'from_poi_to_this_person': 42L, 'exercised_stock_options': 940257L, 'from_messages': 75L, 'other': 401481L, 'from_this_person_to_poi': 37L, 'poi': False, 'deferred_income': 0L, 'shared_receipt_with_poi': 1604L, 'restricted_stock': 1392142L, 'director_fees': 0L}, 'KOENIG MARK E': {'salary': 309946L, 'to_messages': 2374L, 'deferral_payments': 0L, 'total_payments': 1587421L, 'long_term_incentive': 300000L, 'loan_advances': 0L, 'bonus': 700000L, 'restricted_stock_deferred': 0L, 'total_stock_value': 1920055L, 'expenses': 127017L, 'from_poi_to_this_person': 53L, 'exercised_stock_options': 671737L, 'from_messages': 61L, 'other': 150458L, 'from_this_person_to_poi': 15L, 'poi': True, 'deferred_income': 0L, 'shared_receipt_with_poi': 2271L, 'restricted_stock': 1248318L, 'director_fees': 0L}, 'SAVAGE FRANK': {'salary': 0L, 'to_messages': 0L, 'deferral_payments': 0L, 'total_payments': 3750L, 'long_term_incentive': 0L, 'loan_advances': 0L, 'bonus': 0L, 'restricted_stock_deferred': 0L, 'total_stock_value': 0L, 'expenses': 0L, 'from_poi_to_this_person': 0L, 'exercised_stock_options': 0L, 'from_messages': 0L, 'other': 0L, 'from_this_person_to_poi': 0L, 'poi': False, 'deferred_income': -121284L, 'shared_receipt_with_poi': 0L, 'restricted_stock': 0L, 'director_fees': 125034L}, 'IZZO LAWRENCE L': {'salary': 85274L, 'to_messages': 496L, 'deferral_payments': 0L, 'total_payments': 1979596L, 'long_term_incentive': 312500L, 'loan_advances': 0L, 'bonus': 0L, 'restricted_stock_deferred': 0L, 'total_stock_value': 5819980L, 'expenses': 28093L, 'from_poi_to_this_person': 28L, 'exercised_stock_options': 2165172L, 'from_messages': 19L, 'other': 1553729L, 'from_this_person_to_poi': 5L, 'poi': False, 'deferred_income': 0L, 'shared_receipt_with_poi': 437L, 'restricted_stock': 3654808L, 'director_fees': 0L}, 'TILNEY ELIZABETH A': {'salary': 247338L, 'to_messages': 460L, 'deferral_payments': 0L, 'total_payments': 399393L, 'long_term_incentive': 275000L, 'loan_advances': 0L, 'bonus': 300000L, 'restricted_stock_deferred': 0L, 'total_stock_value': 1168042L, 'expenses': 0L, 'from_poi_to_this_person': 10L, 'exercised_stock_options': 591250L, 'from_messages': 19L, 'other': 152055L, 'from_this_person_to_poi': 11L, 'poi': False, 'deferred_income': -575000L, 'shared_receipt_with_poi': 379L, 'restricted_stock': 576792L, 'director_fees': 0L}, 'MARTIN AMANDA K': {'salary': 349487L, 'to_messages': 1522L, 'deferral_payments': 85430L, 'total_payments': 8407016L, 'long_term_incentive': 5145434L, 'loan_advances': 0L, 'bonus': 0L, 'restricted_stock_deferred': 0L, 'total_stock_value': 2070306L, 'expenses': 8211L, 'from_poi_to_this_person': 8L, 'exercised_stock_options': 2070306L, 'from_messages': 230L, 'other': 2818454L, 'from_this_person_to_poi': 0L, 'poi': False, 'deferred_income': 0L, 'shared_receipt_with_poi': 477L, 'restricted_stock': 0L, 'director_fees': 0L}, 'BUY RICHARD B': {'salary': 330546L, 'to_messages': 3523L, 'deferral_payments': 649584L, 'total_payments': 2355702L, 'long_term_incentive': 769862L, 'loan_advances': 0L, 'bonus': 900000L, 'restricted_stock_deferred': 0L, 'total_stock_value': 3444470L, 'expenses': 0L, 'from_poi_to_this_person': 156L, 'exercised_stock_options': 2542813L, 'from_messages': 1053L, 'other': 400572L, 'from_this_person_to_poi': 71L, 'poi': False, 'deferred_income': -694862L, 'shared_receipt_with_poi': 2333L, 'restricted_stock': 901657L, 'director_fees': 0L}, 'GRAMM WENDY L': {'salary': 0L, 'to_messages': 0L, 'deferral_payments': 0L, 'total_payments': 119292L, 'long_term_incentive': 0L, 'loan_advances': 0L, 'bonus': 0L, 'restricted_stock_deferred': 0L, 'total_stock_value': 0L, 'expenses': 0L, 'from_poi_to_this_person': 0L, 'exercised_stock_options': 0L, 'from_messages': 0L, 'other': 0L, 'from_this_person_to_poi': 0L, 'poi': False, 'deferred_income': 0L, 'shared_receipt_with_poi': 0L, 'restricted_stock': 0L, 'director_fees': 119292L}, 'CAUSEY RICHARD A': {'salary': 415189L, 'to_messages': 1892L, 'deferral_payments': 0L, 'total_payments': 1868758L, 'long_term_incentive': 350000L, 'loan_advances': 0L, 'bonus': 1000000L, 'restricted_stock_deferred': 0L, 'total_stock_value': 2502063L, 'expenses': 30674L, 'from_poi_to_this_person': 58L, 'exercised_stock_options': 0L, 'from_messages': 49L, 'other': 307895L, 'from_this_person_to_poi': 12L, 'poi': True, 'deferred_income': -235000L, 'shared_receipt_with_poi': 1585L, 'restricted_stock': 2502063L, 'director_fees': 0L}, 'TAYLOR MITCHELL S': {'salary': 265214L, 'to_messages': 533L, 'deferral_payments': 227449L, 'total_payments': 1092663L, 'long_term_incentive': 0L, 'loan_advances': 0L, 'bonus': 600000L, 'restricted_stock_deferred': 0L, 'total_stock_value': 3745048L, 'expenses': 0L, 'from_poi_to_this_person': 0L, 'exercised_stock_options': 3181250L, 'from_messages': 29L, 'other': 0L, 'from_this_person_to_poi': 0L, 'poi': False, 'deferred_income': 0L, 'shared_receipt_with_poi': 300L, 'restricted_stock': 563798L, 'director_fees': 0L}, 'DONAHUE JR JEFFREY M': {'salary': 278601L, 'to_messages': 865L, 'deferral_payments': 0L, 'total_payments': 875760L, 'long_term_incentive': 0L, 'loan_advances': 0L, 'bonus': 800000L, 'restricted_stock_deferred': 0L, 'total_stock_value': 1080988L, 'expenses': 96268L, 'from_poi_to_this_person': 188L, 'exercised_stock_options': 765920L, 'from_messages': 22L, 'other': 891L, 'from_this_person_to_poi': 11L, 'poi': False, 'deferred_income': -300000L, 'shared_receipt_with_poi': 772L, 'restricted_stock': 315068L, 'director_fees': 0L}, 'GLISAN JR BEN F': {'salary': 274975L, 'to_messages': 873L, 'deferral_payments': 0L, 'total_payments': 1272284L, 'long_term_incentive': 71023L, 'loan_advances': 0L, 'bonus': 600000L, 'restricted_stock_deferred': 0L, 'total_stock_value': 778546L, 'expenses': 125978L, 'from_poi_to_this_person': 52L, 'exercised_stock_options': 384728L, 'from_messages': 16L, 'other': 200308L, 'from_this_person_to_poi': 6L, 'poi': True, 'deferred_income': 0L, 'shared_receipt_with_poi': 874L, 'restricted_stock': 393818L, 'director_fees': 0L}}\n"
     ]
    }
   ],
   "source": [
    "data_dict = dict(df.to_dict('index'))\n",
    "print data_dict"
   ]
  },
  {
   "cell_type": "code",
   "execution_count": 81,
   "metadata": {},
   "outputs": [
    {
     "name": "stdout",
     "output_type": "stream",
     "text": [
      "False\n"
     ]
    }
   ],
   "source": [
    "print df_dict == data_dict"
   ]
  },
  {
   "cell_type": "markdown",
   "metadata": {},
   "source": [
    "### Redo the whole dataset by delete row = total"
   ]
  },
  {
   "cell_type": "code",
   "execution_count": null,
   "metadata": {
    "collapsed": true
   },
   "outputs": [],
   "source": []
  },
  {
   "cell_type": "code",
   "execution_count": 2,
   "metadata": {},
   "outputs": [],
   "source": [
    "#reduce the outlier called \"total\"\n",
    "with open(\"final_project_dataset.pkl\", \"r\") as data_file:\n",
    "    data_dict = pickle.load(data_file)\n",
    "\n",
    "df = pandas.DataFrame.from_records(list(data_dict.values()))\n",
    "employees = pandas.Series(list(data_dict.keys()))\n",
    "# set the index of df to be the employees series:\n",
    "df.set_index(employees, inplace=True)\n",
    "df = df.drop(\"TOTAL\", axis = 0)\n",
    "df = df.drop(\"email_address\", axis = 1)"
   ]
  },
  {
   "cell_type": "code",
   "execution_count": 7,
   "metadata": {},
   "outputs": [
    {
     "name": "stdout",
     "output_type": "stream",
     "text": [
      "       bonus deferral_payments deferred_income director_fees  \\\n",
      "count    145               145             145           145   \n",
      "unique    41                39              44            17   \n",
      "top      NaN               NaN             NaN           NaN   \n",
      "freq      64               107              97           129   \n",
      "\n",
      "       exercised_stock_options expenses from_messages from_poi_to_this_person  \\\n",
      "count                      145      145           145                     145   \n",
      "unique                     101       94            65                      58   \n",
      "top                        NaN      NaN           NaN                     NaN   \n",
      "freq                        44       51            59                      59   \n",
      "\n",
      "       from_this_person_to_poi loan_advances long_term_incentive other    poi  \\\n",
      "count                      145           145                 145   145    145   \n",
      "unique                      42             4                  52    92      2   \n",
      "top                        NaN           NaN                 NaN   NaN  False   \n",
      "freq                        59           142                  80    53    127   \n",
      "\n",
      "       restricted_stock restricted_stock_deferred salary  \\\n",
      "count               145                       145    145   \n",
      "unique               97                        18     94   \n",
      "top                 NaN                       NaN    NaN   \n",
      "freq                 36                       128     51   \n",
      "\n",
      "       shared_receipt_with_poi to_messages total_payments total_stock_value  \n",
      "count                      145         145            145               145  \n",
      "unique                      84          87            125               124  \n",
      "top                        NaN         NaN            NaN               NaN  \n",
      "freq                        59          59             21                20  \n"
     ]
    }
   ],
   "source": [
    "print df.describe()"
   ]
  },
  {
   "cell_type": "code",
   "execution_count": 19,
   "metadata": {},
   "outputs": [],
   "source": [
    "df.replace(to_replace = \"NaN\", value = np.nan, inplace = True)\n",
    "           "
   ]
  },
  {
   "cell_type": "code",
   "execution_count": 20,
   "metadata": {},
   "outputs": [
    {
     "data": {
      "text/plain": [
       "bonus                         64\n",
       "deferral_payments            107\n",
       "deferred_income               97\n",
       "director_fees                129\n",
       "exercised_stock_options       44\n",
       "expenses                      51\n",
       "from_messages                 59\n",
       "from_poi_to_this_person       59\n",
       "from_this_person_to_poi       59\n",
       "loan_advances                142\n",
       "long_term_incentive           80\n",
       "other                         53\n",
       "poi                            0\n",
       "restricted_stock              36\n",
       "restricted_stock_deferred    128\n",
       "salary                        51\n",
       "shared_receipt_with_poi       59\n",
       "to_messages                   59\n",
       "total_payments                21\n",
       "total_stock_value             20\n",
       "dtype: int64"
      ]
     },
     "execution_count": 20,
     "metadata": {},
     "output_type": "execute_result"
    }
   ],
   "source": [
    "df.isnull().sum()"
   ]
  },
  {
   "cell_type": "code",
   "execution_count": 47,
   "metadata": {},
   "outputs": [
    {
     "name": "stdout",
     "output_type": "stream",
     "text": [
      "0.124137931034\n",
      "\n",
      "w/ deferral_payments:  5\n",
      "reasonable ratio:  4.71724137931\n",
      "BAXTER JOHN C                  False\n",
      "MEYER ROCKFORD G               False\n",
      "HORTON STANLEY C               False\n",
      "PIPER GREGORY F                False\n",
      "HUMPHREY GENE E                False\n",
      "GIBBS DANA R                   False\n",
      "COLWELL WESLEY                  True\n",
      "MULLER MARK S                  False\n",
      "WALTERS GARETH W               False\n",
      "BELFER ROBERT                  False\n",
      "RIEKER PAULA H                  True\n",
      "HAYES ROBERT E                 False\n",
      "DETMERING TIMOTHY J            False\n",
      "SULLIVAN-SHAKLOVITZ COLLEEN    False\n",
      "LINDHOLM TOD A                 False\n",
      "LAY KENNETH L                   True\n",
      "OLSON CINDY K                  False\n",
      "GAHN ROBERT S                  False\n",
      "HAEDICKE MARK E                False\n",
      "BAZELIDES PHILIP J             False\n",
      "BELDEN TIMOTHY N                True\n",
      "THORN TERENCE H                False\n",
      "FOY JOE                        False\n",
      "PRENTICE JAMES                 False\n",
      "GRAY RODNEY                    False\n",
      "NOLES JAMES L                  False\n",
      "WASAFF GEORGE                  False\n",
      "ALLEN PHILLIP K                False\n",
      "SHARP VICTORIA T               False\n",
      "BADUM JAMES P                  False\n",
      "REYNOLDS LAWRENCE              False\n",
      "HIRKO JOSEPH                    True\n",
      "FREVERT MARK A                 False\n",
      "BAY FRANKLIN R                 False\n",
      "FUGH JOHN L                    False\n",
      "MARTIN AMANDA K                False\n",
      "BUY RICHARD B                  False\n",
      "TAYLOR MITCHELL S              False\n",
      "Name: poi, dtype: bool\n",
      "\n",
      "w/ director_fees:  0\n",
      "CHAN RONNIE                False\n",
      "BELFER ROBERT              False\n",
      "URQUHART JOHN A            False\n",
      "MENDELSOHN JOHN            False\n",
      "WAKEHAM JOHN               False\n",
      "POWERS WILLIAM             False\n",
      "DUNCAN JOHN H              False\n",
      "LEMAISTRE CHARLES          False\n",
      "MEYER JEROME J             False\n",
      "PEREIRA PAULO V. FERRAZ    False\n",
      "BLAKE JR. NORMAN P         False\n",
      "JAEDICKE ROBERT            False\n",
      "WINOKUR JR. HERBERT S      False\n",
      "BHATNAGAR SANJAY           False\n",
      "SAVAGE FRANK               False\n",
      "GRAMM WENDY L              False\n",
      "Name: poi, dtype: bool\n",
      "\n",
      "w/ restricted_stock_deferred:  0\n",
      "PIPER GREGORY F        False\n",
      "LOWRY CHARLES P        False\n",
      "CHAN RONNIE            False\n",
      "BELFER ROBERT          False\n",
      "CLINE KENNETH W        False\n",
      "DETMERING TIMOTHY J    False\n",
      "BANNANTINE JAMES M     False\n",
      "GATHMANN WILLIAM D     False\n",
      "HAEDICKE MARK E        False\n",
      "NOLES JAMES L          False\n",
      "ALLEN PHILLIP K        False\n",
      "JAEDICKE ROBERT        False\n",
      "REYNOLDS LAWRENCE      False\n",
      "BHATNAGAR SANJAY       False\n",
      "CARTER REBECCA C       False\n",
      "DERRICK JR. JAMES V    False\n",
      "BAY FRANKLIN R         False\n",
      "Name: poi, dtype: bool\n",
      "\n",
      "w/ loan_advances:  1\n",
      "LAY KENNETH L        True\n",
      "PICKERING MARK R    False\n",
      "FREVERT MARK A      False\n",
      "Name: poi, dtype: bool\n"
     ]
    }
   ],
   "source": [
    "#choose the column with NaN over 100\n",
    "# total people 145, poi: 18\n",
    "total = 145\n",
    "ratio = 18.0/145.0\n",
    "print float(18.0/145.0)\n",
    "\n",
    "print \"\\nw/ deferral_payments: \", df[df['deferral_payments'].notnull()]['poi'].sum()\n",
    "print \"reasonable ratio: \", ratio *(total - df['deferral_payments'].isnull().sum())\n",
    "print df[df['deferral_payments'].notnull()]['poi']\n",
    "\n",
    "\n",
    "print \"\\nw/ director_fees: \", df[df['director_fees'].notnull()]['poi'].sum()\n",
    "print df[df['director_fees'].notnull()]['poi']\n",
    "\n",
    "print \"\\nw/ restricted_stock_deferred: \", df[df['restricted_stock_deferred'].notnull()]['poi'].sum()\n",
    "print df[df['restricted_stock_deferred'].notnull()]['poi']\n",
    "\n",
    "print \"\\nw/ loan_advances: \", df[df['loan_advances'].notnull()]['poi'].sum()\n",
    "print df[df['loan_advances'].notnull()]['poi']\n"
   ]
  },
  {
   "cell_type": "code",
   "execution_count": 50,
   "metadata": {},
   "outputs": [
    {
     "name": "stdout",
     "output_type": "stream",
     "text": [
      " w/ bonus: 16\n",
      "reasonable poi when distributed: 10.0551724138\n",
      "\n",
      " w/ deferral_payments: 5\n",
      "reasonable poi when distributed: 4.71724137931\n",
      "\n",
      " w/ deferred_income: 11\n",
      "reasonable poi when distributed: 5.95862068966\n",
      "\n",
      " w/ director_fees: 0\n",
      "reasonable poi when distributed: 1.98620689655\n",
      "\n",
      " w/ exercised_stock_options: 12\n",
      "reasonable poi when distributed: 12.5379310345\n",
      "\n",
      " w/ expenses: 18\n",
      "reasonable poi when distributed: 11.6689655172\n",
      "\n",
      " w/ from_messages: 14\n",
      "reasonable poi when distributed: 10.675862069\n",
      "\n",
      " w/ from_poi_to_this_person: 14\n",
      "reasonable poi when distributed: 10.675862069\n",
      "\n",
      " w/ from_this_person_to_poi: 14\n",
      "reasonable poi when distributed: 10.675862069\n",
      "\n",
      " w/ loan_advances: 1\n",
      "reasonable poi when distributed: 0.372413793103\n",
      "\n",
      " w/ long_term_incentive: 12\n",
      "reasonable poi when distributed: 8.06896551724\n",
      "\n",
      " w/ other: 18\n",
      "reasonable poi when distributed: 11.4206896552\n",
      "\n",
      " w/ poi: 18\n",
      "reasonable poi when distributed: 18.0\n",
      "\n",
      " w/ restricted_stock: 17\n",
      "reasonable poi when distributed: 13.5310344828\n",
      "\n",
      " w/ restricted_stock_deferred: 0\n",
      "reasonable poi when distributed: 2.11034482759\n",
      "\n",
      " w/ salary: 17\n",
      "reasonable poi when distributed: 11.6689655172\n",
      "\n",
      " w/ shared_receipt_with_poi: 14\n",
      "reasonable poi when distributed: 10.675862069\n",
      "\n",
      " w/ to_messages: 14\n",
      "reasonable poi when distributed: 10.675862069\n",
      "\n",
      " w/ total_payments: 18\n",
      "reasonable poi when distributed: 15.3931034483\n",
      "\n",
      " w/ total_stock_value: 18\n",
      "reasonable poi when distributed: 15.5172413793\n",
      "\n"
     ]
    }
   ],
   "source": [
    "for feature in df.columns.values:\n",
    "    print \" w/ {}: {}\".format(feature, df[df[feature].notnull()]['poi'].sum())\n",
    "    print \"reasonable poi when distributed: {}\\n\".format(ratio *(total - df[feature].isnull().sum()))\n",
    "    #print df[df['deferral_payments'].notnull()]['poi']"
   ]
  },
  {
   "cell_type": "code",
   "execution_count": 51,
   "metadata": {},
   "outputs": [
    {
     "data": {
      "text/plain": [
       "count      86.000000\n",
       "mean     1176.465116\n",
       "std      1178.317641\n",
       "min         2.000000\n",
       "25%       249.750000\n",
       "50%       740.500000\n",
       "75%      1888.250000\n",
       "max      5521.000000\n",
       "Name: shared_receipt_with_poi, dtype: float64"
      ]
     },
     "execution_count": 51,
     "metadata": {},
     "output_type": "execute_result"
    }
   ],
   "source": [
    "df['shared_receipt_with_poi'].describe()"
   ]
  },
  {
   "cell_type": "code",
   "execution_count": 64,
   "metadata": {},
   "outputs": [
    {
     "data": {
      "text/plain": [
       "bonus                           5.25e+06\n",
       "deferral_payments            2.14401e+06\n",
       "deferred_income             -2.33443e+06\n",
       "director_fees                        NaN\n",
       "exercised_stock_options           953136\n",
       "expenses                           17355\n",
       "from_messages                        484\n",
       "from_poi_to_this_person              228\n",
       "from_this_person_to_poi              108\n",
       "loan_advances                        NaN\n",
       "long_term_incentive                  NaN\n",
       "other                             210698\n",
       "poi                                 True\n",
       "restricted_stock                  157569\n",
       "restricted_stock_deferred            NaN\n",
       "salary                            213999\n",
       "shared_receipt_with_poi             5521\n",
       "to_messages                         7991\n",
       "total_payments               5.50163e+06\n",
       "total_stock_value            1.11070e+06\n",
       "Name: BELDEN TIMOTHY N, dtype: object"
      ]
     },
     "execution_count": 64,
     "metadata": {},
     "output_type": "execute_result"
    }
   ],
   "source": [
    "df.ix[df['shared_receipt_with_poi'].argmax]"
   ]
  },
  {
   "cell_type": "code",
   "execution_count": 52,
   "metadata": {},
   "outputs": [
    {
     "data": {
      "text/plain": [
       "count     86.000000\n",
       "mean      64.895349\n",
       "std       86.979244\n",
       "min        0.000000\n",
       "25%       10.000000\n",
       "50%       35.000000\n",
       "75%       72.250000\n",
       "max      528.000000\n",
       "Name: from_poi_to_this_person, dtype: float64"
      ]
     },
     "execution_count": 52,
     "metadata": {},
     "output_type": "execute_result"
    }
   ],
   "source": [
    "df['from_poi_to_this_person'].describe()"
   ]
  },
  {
   "cell_type": "code",
   "execution_count": 63,
   "metadata": {},
   "outputs": [
    {
     "data": {
      "text/plain": [
       "bonus                              8e+06\n",
       "deferral_payments                    NaN\n",
       "deferred_income                      NaN\n",
       "director_fees                        NaN\n",
       "exercised_stock_options        4.159e+06\n",
       "expenses                           49537\n",
       "from_messages                       2585\n",
       "from_poi_to_this_person              528\n",
       "from_this_person_to_poi              411\n",
       "loan_advances                        NaN\n",
       "long_term_incentive          2.03538e+06\n",
       "other                               1552\n",
       "poi                                False\n",
       "restricted_stock             1.00815e+06\n",
       "restricted_stock_deferred            NaN\n",
       "salary                            339288\n",
       "shared_receipt_with_poi             3962\n",
       "to_messages                         7259\n",
       "total_payments               1.04258e+07\n",
       "total_stock_value            5.16714e+06\n",
       "Name: LAVORATO JOHN J, dtype: object"
      ]
     },
     "execution_count": 63,
     "metadata": {},
     "output_type": "execute_result"
    }
   ],
   "source": [
    "df.ix[df['from_poi_to_this_person'].argmax]"
   ]
  },
  {
   "cell_type": "code",
   "execution_count": 53,
   "metadata": {},
   "outputs": [
    {
     "data": {
      "text/plain": [
       "count     86.000000\n",
       "mean      41.232558\n",
       "std      100.073111\n",
       "min        0.000000\n",
       "25%        1.000000\n",
       "50%        8.000000\n",
       "75%       24.750000\n",
       "max      609.000000\n",
       "Name: from_this_person_to_poi, dtype: float64"
      ]
     },
     "execution_count": 53,
     "metadata": {},
     "output_type": "execute_result"
    }
   ],
   "source": [
    "df['from_this_person_to_poi'].describe()"
   ]
  },
  {
   "cell_type": "code",
   "execution_count": 62,
   "metadata": {},
   "outputs": [
    {
     "data": {
      "text/plain": [
       "bonus                              3e+06\n",
       "deferral_payments                    NaN\n",
       "deferred_income                      NaN\n",
       "director_fees                        NaN\n",
       "exercised_stock_options      2.29111e+06\n",
       "expenses                           86174\n",
       "from_messages                       3069\n",
       "from_poi_to_this_person               66\n",
       "from_this_person_to_poi              609\n",
       "loan_advances                        NaN\n",
       "long_term_incentive          1.29498e+06\n",
       "other                               1661\n",
       "poi                                 True\n",
       "restricted_stock             1.32315e+06\n",
       "restricted_stock_deferred            NaN\n",
       "salary                            365163\n",
       "shared_receipt_with_poi             2097\n",
       "to_messages                         3093\n",
       "total_payments               4.74798e+06\n",
       "total_stock_value            3.61426e+06\n",
       "Name: DELAINEY DAVID W, dtype: object"
      ]
     },
     "execution_count": 62,
     "metadata": {},
     "output_type": "execute_result"
    }
   ],
   "source": [
    "df.ix[df['from_this_person_to_poi'].argmax]"
   ]
  },
  {
   "cell_type": "code",
   "execution_count": 55,
   "metadata": {},
   "outputs": [
    {
     "data": {
      "text/plain": [
       "count       86.000000\n",
       "mean       608.790698\n",
       "std       1841.033949\n",
       "min         12.000000\n",
       "25%         22.750000\n",
       "50%         41.000000\n",
       "75%        145.500000\n",
       "max      14368.000000\n",
       "Name: from_messages, dtype: float64"
      ]
     },
     "execution_count": 55,
     "metadata": {},
     "output_type": "execute_result"
    }
   ],
   "source": [
    "df['from_messages'].describe()"
   ]
  },
  {
   "cell_type": "code",
   "execution_count": 61,
   "metadata": {},
   "outputs": [
    {
     "data": {
      "text/plain": [
       "bonus                             400000\n",
       "deferral_payments                    NaN\n",
       "deferred_income                      NaN\n",
       "director_fees                        NaN\n",
       "exercised_stock_options           850010\n",
       "expenses                           83585\n",
       "from_messages                      14368\n",
       "from_poi_to_this_person               41\n",
       "from_this_person_to_poi              171\n",
       "loan_advances                        NaN\n",
       "long_term_incentive               323466\n",
       "other                               4669\n",
       "poi                                False\n",
       "restricted_stock                  126027\n",
       "restricted_stock_deferred            NaN\n",
       "salary                            275101\n",
       "shared_receipt_with_poi              583\n",
       "to_messages                         4607\n",
       "total_payments               1.08682e+06\n",
       "total_stock_value                 976037\n",
       "Name: KAMINSKI WINCENTY J, dtype: object"
      ]
     },
     "execution_count": 61,
     "metadata": {},
     "output_type": "execute_result"
    }
   ],
   "source": [
    "df.ix[df['from_messages'].argmax]"
   ]
  },
  {
   "cell_type": "code",
   "execution_count": 56,
   "metadata": {},
   "outputs": [
    {
     "data": {
      "text/plain": [
       "count       86.000000\n",
       "mean      2073.860465\n",
       "std       2582.700981\n",
       "min         57.000000\n",
       "25%        541.250000\n",
       "50%       1211.000000\n",
       "75%       2634.750000\n",
       "max      15149.000000\n",
       "Name: to_messages, dtype: float64"
      ]
     },
     "execution_count": 56,
     "metadata": {},
     "output_type": "execute_result"
    }
   ],
   "source": [
    "df['to_messages'].describe()"
   ]
  },
  {
   "cell_type": "code",
   "execution_count": 60,
   "metadata": {},
   "outputs": [
    {
     "data": {
      "text/plain": [
       "bonus                             650000\n",
       "deferral_payments                    NaN\n",
       "deferred_income                      NaN\n",
       "director_fees                        NaN\n",
       "exercised_stock_options           607837\n",
       "expenses                          137767\n",
       "from_messages                       1215\n",
       "from_poi_to_this_person               74\n",
       "from_this_person_to_poi               65\n",
       "loan_advances                        NaN\n",
       "long_term_incentive                  NaN\n",
       "other                                705\n",
       "poi                                False\n",
       "restricted_stock                  379164\n",
       "restricted_stock_deferred            NaN\n",
       "salary                            269076\n",
       "shared_receipt_with_poi             4527\n",
       "to_messages                        15149\n",
       "total_payments               1.05755e+06\n",
       "total_stock_value                 987001\n",
       "Name: SHAPIRO RICHARD S, dtype: object"
      ]
     },
     "execution_count": 60,
     "metadata": {},
     "output_type": "execute_result"
    }
   ],
   "source": [
    "df.ix[df['to_messages'].argmax]"
   ]
  },
  {
   "cell_type": "code",
   "execution_count": 70,
   "metadata": {},
   "outputs": [],
   "source": [
    "for i in df.index:\n",
    "        if df.ix[i].count() < 3:\n",
    "            print df.ix[i]"
   ]
  },
  {
   "cell_type": "code",
   "execution_count": 69,
   "metadata": {
    "collapsed": true
   },
   "outputs": [],
   "source": [
    "df.replace(to_replace = np.nan, value = 0, inplace = True)"
   ]
  },
  {
   "cell_type": "code",
   "execution_count": 99,
   "metadata": {},
   "outputs": [
    {
     "name": "stdout",
     "output_type": "stream",
     "text": [
      "[[  2.00762612e-01]\n",
      " [  0.00000000e+00]\n",
      " [  0.00000000e+00]\n",
      " [  2.94447372e-02]\n",
      " [  2.82554858e-01]\n",
      " [  0.00000000e+00]\n",
      " [  3.98478536e-03]\n",
      " [  5.56091506e-01]\n",
      " [  3.02493852e-01]\n",
      " [  3.28743980e-01]\n",
      " [  6.84080744e-02]\n",
      " [  3.01534636e-02]\n",
      " [  4.71933046e-01]\n",
      " [  5.56011975e-01]\n",
      " [  4.16591197e-03]\n",
      " [  0.00000000e+00]\n",
      " [  6.77643172e-01]\n",
      " [  4.33757060e-02]\n",
      " [  9.97389843e-02]\n",
      " [  0.00000000e+00]\n",
      " [  0.00000000e+00]\n",
      " [  7.11391903e-02]\n",
      " [  1.45848732e+00]\n",
      " [  0.00000000e+00]\n",
      " [  0.00000000e+00]\n",
      " [  6.27668332e-01]\n",
      " [  0.00000000e+00]\n",
      " [  4.97782571e-02]\n",
      " [  0.00000000e+00]\n",
      " [  2.98682043e-01]\n",
      " [  3.72962885e-01]\n",
      " [  0.00000000e+00]\n",
      " [  1.38454633e+00]\n",
      " [  1.04380643e-01]\n",
      " [  0.00000000e+00]\n",
      " [  0.00000000e+00]\n",
      " [  2.40413559e-01]\n",
      " [  0.00000000e+00]\n",
      " [  1.52791957e-01]\n",
      " [  3.93593607e-02]\n",
      " [  1.42644874e-01]\n",
      " [  0.00000000e+00]\n",
      " [  6.33852740e-01]\n",
      " [  2.39250047e+00]\n",
      " [  0.00000000e+00]\n",
      " [  0.00000000e+00]\n",
      " [  0.00000000e+00]\n",
      " [  2.17351929e-03]\n",
      " [  0.00000000e+00]\n",
      " [  1.58087509e-01]\n",
      " [  0.00000000e+00]\n",
      " [  1.06684402e+00]\n",
      " [  4.71706389e-01]\n",
      " [  6.40922392e-02]\n",
      " [  0.00000000e+00]\n",
      " [  3.24353062e-01]\n",
      " [  0.00000000e+00]\n",
      " [  1.10169790e+00]\n",
      " [  8.89283576e-01]\n",
      " [  2.18541595e-03]\n",
      " [  1.50482250e+00]\n",
      " [  0.00000000e+00]\n",
      " [  0.00000000e+00]\n",
      " [  0.00000000e+00]\n",
      " [  0.00000000e+00]\n",
      " [  6.95923374e-01]\n",
      " [  0.00000000e+00]\n",
      " [  2.17553706e-01]\n",
      " [  2.34325921e-01]\n",
      " [  0.00000000e+00]\n",
      " [  0.00000000e+00]\n",
      " [  3.64559835e-01]\n",
      " [  0.00000000e+00]\n",
      " [  0.00000000e+00]\n",
      " [  0.00000000e+00]\n",
      " [  7.75614139e-01]\n",
      " [  5.78316743e-01]\n",
      " [  0.00000000e+00]\n",
      " [  1.45984766e-01]\n",
      " [  2.30030792e-02]\n",
      " [  6.59360990e-01]\n",
      " [  0.00000000e+00]\n",
      " [  1.60915808e+00]\n",
      " [  3.14178522e-01]\n",
      " [  1.32222423e-02]\n",
      " [  0.00000000e+00]\n",
      " [  3.62253215e-04]\n",
      " [  8.14249860e-01]\n",
      " [  2.42606988e-01]\n",
      " [  4.64036505e-01]\n",
      " [  0.00000000e+00]\n",
      " [  1.94281336e-02]\n",
      " [  0.00000000e+00]\n",
      " [  0.00000000e+00]\n",
      " [  0.00000000e+00]\n",
      " [  5.85788283e-01]\n",
      " [  0.00000000e+00]\n",
      " [  2.09017099e-01]\n",
      " [  0.00000000e+00]\n",
      " [  0.00000000e+00]\n",
      " [  1.45117746e-01]\n",
      " [  0.00000000e+00]\n",
      " [  0.00000000e+00]\n",
      " [  1.55973922e+00]\n",
      " [  1.81126607e-03]\n",
      " [  1.14200586e-01]\n",
      " [  0.00000000e+00]\n",
      " [  0.00000000e+00]\n",
      " [  4.50592636e-01]\n",
      " [  5.03957369e-01]\n",
      " [  0.00000000e+00]\n",
      " [  0.00000000e+00]\n",
      " [  1.64100597e-01]\n",
      " [  0.00000000e+00]\n",
      " [  1.81181631e-01]\n",
      " [  0.00000000e+00]\n",
      " [  0.00000000e+00]\n",
      " [  8.55036554e-02]\n",
      " [  1.01919310e-01]\n",
      " [  4.16591197e-03]\n",
      " [  0.00000000e+00]\n",
      " [  9.56624155e-02]\n",
      " [  9.55149054e-02]\n",
      " [  4.45139356e-02]\n",
      " [  0.00000000e+00]\n",
      " [  0.00000000e+00]\n",
      " [  9.45142828e-01]\n",
      " [  4.07811221e-01]\n",
      " [  1.00776171e+00]\n",
      " [  0.00000000e+00]\n",
      " [  0.00000000e+00]\n",
      " [  2.32108544e-01]\n",
      " [  0.00000000e+00]\n",
      " [  4.30827870e-01]\n",
      " [  5.36347855e-01]\n",
      " [  0.00000000e+00]\n",
      " [  1.40392811e-01]\n",
      " [  1.05648776e-01]\n",
      " [  1.01548907e-01]\n",
      " [  8.34607486e-01]\n",
      " [  0.00000000e+00]\n",
      " [  4.16638591e-01]\n",
      " [  5.43379822e-02]\n",
      " [  5.13952744e-01]\n",
      " [  2.66641720e-01]]\n"
     ]
    }
   ],
   "source": [
    "from sklearn.preprocessing import MinMaxScaler\n",
    "scaler = MinMaxScaler()\n",
    "\n",
    "n_from_poi = scaler.fit_transform(df.from_poi_to_this_person.values.reshape(-1,1))\n",
    "n_to_poi = scaler.fit_transform(df.from_this_person_to_poi.values.reshape(-1,1))\n",
    "n_shared_receipt_poi = scaler.fit_transform(df.shared_receipt_with_poi .values.reshape(-1,1))\n",
    "poi_email_receipt = n_from_poi + n_to_poi+n_shared_receipt_poi\n",
    "print poi_email_receipt"
   ]
  },
  {
   "cell_type": "code",
   "execution_count": 100,
   "metadata": {},
   "outputs": [],
   "source": [
    "poi_email_receipt = [n[0] for n in list(poi_email)]\n"
   ]
  },
  {
   "cell_type": "code",
   "execution_count": 102,
   "metadata": {},
   "outputs": [
    {
     "name": "stdout",
     "output_type": "stream",
     "text": [
      "METTS MARK          0.073612\n",
      "BAXTER JOHN C       0.000000\n",
      "ELLIOTT STEVEN      0.000000\n",
      "CORDES WILLIAM R    0.018939\n",
      "HANNON KEVIN P      0.095089\n",
      "Name: poi_email_receipt, dtype: float64\n"
     ]
    }
   ],
   "source": [
    "df['poi_email_receipt'] = pandas.Series(poi_email_receipt, index = df.index)\n",
    "print df['poi_email_receipt'].head()"
   ]
  },
  {
   "cell_type": "code",
   "execution_count": 125,
   "metadata": {},
   "outputs": [],
   "source": [
    "n_to_msgs = scaler.fit_transform(df.to_messages.values.reshape(-1,1))\n",
    "n_from_msgs = scaler.fit_transform(df.from_messages.values.reshape(-1,1))\n",
    "\n",
    "poi_mails = n_from_poi + n_to_poi\n",
    "poi_mails = [n[0] for n in list(poi_mails)]\n",
    "poi_mails = pandas.Series(poi_mails)\n",
    "\n",
    "all_mails = n_to_msgs + n_from_msgs\n",
    "all_mails = [n[0] for n in list(all_mails)]\n",
    "all_mails = pandas.Series(all_mails)\n",
    "\n",
    "poi_mail_ratio =  list((poi_mails+1)/(all_mails+1))\n",
    "df['poi_mail_ratio'] = pandas.Series(poi_mail_ratio, index = df.index)"
   ]
  },
  {
   "cell_type": "code",
   "execution_count": 126,
   "metadata": {},
   "outputs": [
    {
     "name": "stdout",
     "output_type": "stream",
     "text": [
      "METTS MARK              1.017363\n",
      "BAXTER JOHN C           1.000000\n",
      "ELLIOTT STEVEN          1.000000\n",
      "CORDES WILLIAM R        0.969248\n",
      "HANNON KEVIN P          1.022293\n",
      "MORDAUNT KRISTINA M     1.000000\n",
      "MEYER ROCKFORD G        0.983030\n",
      "MCMAHON JEFFREY         0.994602\n",
      "HORTON STANLEY C        0.900926\n",
      "PIPER GREGORY F         1.088569\n",
      "HUMPHREY GENE E         1.036866\n",
      "UMANOFF ADAM S          1.014027\n",
      "BLACHMAN JEREMY M       0.902333\n",
      "SUNDE MARTIN            0.926996\n",
      "GIBBS DANA R            0.988151\n",
      "LOWRY CHARLES P         1.000000\n",
      "COLWELL WESLEY          1.316202\n",
      "MULLER MARK S           1.012510\n",
      "JACKSON CHARLENE R      1.056438\n",
      "WESTFAHL RICHARD K      1.000000\n",
      "WALTERS GARETH W        1.000000\n",
      "WALLS JR ROBERT H       0.978892\n",
      "KITCHEN LOUISE          1.075185\n",
      "CHAN RONNIE             1.000000\n",
      "BELFER ROBERT           1.000000\n",
      "SHANKMAN JEFFREY A      0.939325\n",
      "WODRASKA JOHN           1.000000\n",
      "BERGSIEKER RICHARD P    0.978810\n",
      "URQUHART JOHN A         1.000000\n",
      "BIBI PHILIPPE A         0.952955\n",
      "                          ...   \n",
      "REYNOLDS LAWRENCE       1.000000\n",
      "DIMICHELE RICHARD G     1.000000\n",
      "BHATNAGAR SANJAY        0.966330\n",
      "CARTER REBECCA C        1.043831\n",
      "BUCHANAN HAROLD G       0.925480\n",
      "YEAP SOON               1.000000\n",
      "MURRAY JULIA H          0.892222\n",
      "GARLAND C KEVIN         1.045646\n",
      "DODSON KEITH            1.011133\n",
      "YEAGER F SCOTT          1.000000\n",
      "HIRKO JOSEPH            1.000000\n",
      "DIETRICH JANET R        1.363216\n",
      "DERRICK JR. JAMES V     0.955947\n",
      "FREVERT MARK A          1.205756\n",
      "PAI LOU L               1.000000\n",
      "BAY FRANKLIN R          1.000000\n",
      "HAYSLETT RODERICK J     0.903883\n",
      "FUGH JOHN L             1.000000\n",
      "FALLON JAMES B          1.017155\n",
      "KOENIG MARK E           0.969037\n",
      "SAVAGE FRANK            1.000000\n",
      "IZZO LAWRENCE L         1.026281\n",
      "TILNEY ELIZABETH A      1.005151\n",
      "MARTIN AMANDA K         0.909246\n",
      "BUY RICHARD B           1.081323\n",
      "GRAMM WENDY L           1.000000\n",
      "CAUSEY RICHARD A        1.001108\n",
      "TAYLOR MITCHELL S       0.964132\n",
      "DONAHUE JR JEFFREY M    1.298019\n",
      "GLISAN JR BEN F         1.046844\n",
      "Name: poi_mail_ratio, dtype: float64\n"
     ]
    }
   ],
   "source": [
    "print df['poi_mail_ratio']"
   ]
  },
  {
   "cell_type": "code",
   "execution_count": 120,
   "metadata": {},
   "outputs": [
    {
     "name": "stdout",
     "output_type": "stream",
     "text": [
      "['bonus' 'deferral_payments' 'deferred_income' 'director_fees'\n",
      " 'exercised_stock_options' 'expenses' 'from_messages'\n",
      " 'from_poi_to_this_person' 'from_this_person_to_poi' 'loan_advances'\n",
      " 'long_term_incentive' 'other' 'poi' 'restricted_stock'\n",
      " 'restricted_stock_deferred' 'salary' 'shared_receipt_with_poi'\n",
      " 'to_messages' 'total_payments' 'total_stock_value' 'poi_email_receipt'\n",
      " 'poi_mail_ratio']\n"
     ]
    }
   ],
   "source": [
    "print df.columns.values"
   ]
  },
  {
   "cell_type": "code",
   "execution_count": 121,
   "metadata": {},
   "outputs": [
    {
     "name": "stdout",
     "output_type": "stream",
     "text": [
      "['poi', 'bonus', 'deferral_payments', 'deferred_income', 'director_fees', 'exercised_stock_options', 'expenses', 'from_messages', 'from_poi_to_this_person', 'from_this_person_to_poi', 'loan_advances', 'long_term_incentive', 'other', 'restricted_stock', 'restricted_stock_deferred', 'salary', 'shared_receipt_with_poi', 'to_messages', 'total_payments', 'total_stock_value', 'poi_email_receipt', 'poi_mail_ratio']\n"
     ]
    }
   ],
   "source": [
    "features = list(df.columns.values)\n",
    "features.remove('poi')\n",
    "\n",
    "print ['poi']+features"
   ]
  },
  {
   "cell_type": "markdown",
   "metadata": {},
   "source": [
    "### Rethinking the part which nan over 100."
   ]
  },
  {
   "cell_type": "code",
   "execution_count": 87,
   "metadata": {},
   "outputs": [
    {
     "name": "stdout",
     "output_type": "stream",
     "text": [
      "18\n"
     ]
    }
   ],
   "source": [
    "print len(df.columns.values)"
   ]
  },
  {
   "cell_type": "code",
   "execution_count": 104,
   "metadata": {},
   "outputs": [
    {
     "name": "stdout",
     "output_type": "stream",
     "text": [
      "HANNON KEVIN P 16 True\n",
      "COLWELL WESLEY 15 True\n",
      "RIEKER PAULA H 16 True\n",
      "KOPPER MICHAEL J 9 True\n",
      "SHELBY REX 15 True\n",
      "DELAINEY DAVID W 15 True\n",
      "LAY KENNETH L 17 True\n",
      "BOWEN JR RAYMOND M 15 True\n",
      "BELDEN TIMOTHY N 16 True\n",
      "FASTOW ANDREW S 10 True\n",
      "CALGER CHRISTOPHER F 15 True\n",
      "RICE KENNETH D 16 True\n",
      "SKILLING JEFFREY K 15 True\n",
      "YEAGER F SCOTT 8 True\n",
      "HIRKO JOSEPH 7 True\n",
      "KOENIG MARK E 15 True\n",
      "CAUSEY RICHARD A 15 True\n",
      "GLISAN JR BEN F 15 True\n",
      "0                METTS MARK\n",
      "1             BAXTER JOHN C\n",
      "2            ELLIOTT STEVEN\n",
      "3          CORDES WILLIAM R\n",
      "4            HANNON KEVIN P\n",
      "5       MORDAUNT KRISTINA M\n",
      "6          MEYER ROCKFORD G\n",
      "7           MCMAHON JEFFREY\n",
      "8          HORTON STANLEY C\n",
      "9           PIPER GREGORY F\n",
      "10          HUMPHREY GENE E\n",
      "11           UMANOFF ADAM S\n",
      "12        BLACHMAN JEREMY M\n",
      "13             SUNDE MARTIN\n",
      "14             GIBBS DANA R\n",
      "15          LOWRY CHARLES P\n",
      "16           COLWELL WESLEY\n",
      "17            MULLER MARK S\n",
      "18       JACKSON CHARLENE R\n",
      "19       WESTFAHL RICHARD K\n",
      "20         WALTERS GARETH W\n",
      "21        WALLS JR ROBERT H\n",
      "22           KITCHEN LOUISE\n",
      "23              CHAN RONNIE\n",
      "24            BELFER ROBERT\n",
      "25       SHANKMAN JEFFREY A\n",
      "26            WODRASKA JOHN\n",
      "27     BERGSIEKER RICHARD P\n",
      "28          URQUHART JOHN A\n",
      "29          BIBI PHILIPPE A\n",
      "               ...         \n",
      "116       REYNOLDS LAWRENCE\n",
      "117     DIMICHELE RICHARD G\n",
      "118        BHATNAGAR SANJAY\n",
      "119        CARTER REBECCA C\n",
      "120       BUCHANAN HAROLD G\n",
      "121               YEAP SOON\n",
      "122          MURRAY JULIA H\n",
      "123         GARLAND C KEVIN\n",
      "124            DODSON KEITH\n",
      "125          YEAGER F SCOTT\n",
      "126            HIRKO JOSEPH\n",
      "127        DIETRICH JANET R\n",
      "128     DERRICK JR. JAMES V\n",
      "129          FREVERT MARK A\n",
      "130               PAI LOU L\n",
      "131          BAY FRANKLIN R\n",
      "132     HAYSLETT RODERICK J\n",
      "133             FUGH JOHN L\n",
      "134          FALLON JAMES B\n",
      "135           KOENIG MARK E\n",
      "136            SAVAGE FRANK\n",
      "137         IZZO LAWRENCE L\n",
      "138      TILNEY ELIZABETH A\n",
      "139         MARTIN AMANDA K\n",
      "140           BUY RICHARD B\n",
      "141           GRAMM WENDY L\n",
      "142        CAUSEY RICHARD A\n",
      "143       TAYLOR MITCHELL S\n",
      "144    DONAHUE JR JEFFREY M\n",
      "145         GLISAN JR BEN F\n",
      "dtype: object\n",
      "18\n"
     ]
    }
   ],
   "source": [
    "count = 0\n",
    "for i in df.index:\n",
    "    if df.ix[i]['poi']:\n",
    "            count += 1\n",
    "            print i, df.ix[i].count(),df.ix[i]['poi']\n",
    "print employees\n",
    "print count"
   ]
  },
  {
   "cell_type": "code",
   "execution_count": 105,
   "metadata": {},
   "outputs": [
    {
     "name": "stdout",
     "output_type": "stream",
     "text": [
      "bonus                           800000\n",
      "deferral_payments                  NaN\n",
      "deferred_income             -1.284e+06\n",
      "director_fees                      NaN\n",
      "exercised_stock_options    8.83191e+06\n",
      "expenses                         51124\n",
      "from_messages                      909\n",
      "from_poi_to_this_person             64\n",
      "from_this_person_to_poi             20\n",
      "long_term_incentive             484000\n",
      "other                             7482\n",
      "poi                              False\n",
      "restricted_stock           1.78738e+06\n",
      "salary                          492375\n",
      "shared_receipt_with_poi           1401\n",
      "to_messages                       2181\n",
      "total_payments                  550981\n",
      "total_stock_value          8.83191e+06\n",
      "Name: DERRICK JR. JAMES V, dtype: object\n"
     ]
    }
   ],
   "source": [
    "print df.ix['DERRICK JR. JAMES V']"
   ]
  },
  {
   "cell_type": "code",
   "execution_count": 1,
   "metadata": {},
   "outputs": [
    {
     "ename": "NameError",
     "evalue": "name 'pickle' is not defined",
     "output_type": "error",
     "traceback": [
      "\u001b[0;31m---------------------------------------------------------------------------\u001b[0m",
      "\u001b[0;31mNameError\u001b[0m                                 Traceback (most recent call last)",
      "\u001b[0;32m<ipython-input-1-953a1f2bc1d0>\u001b[0m in \u001b[0;36m<module>\u001b[0;34m()\u001b[0m\n\u001b[1;32m      3\u001b[0m \u001b[1;31m#reduce the outlier called \"total\"\u001b[0m\u001b[1;33m\u001b[0m\u001b[1;33m\u001b[0m\u001b[0m\n\u001b[1;32m      4\u001b[0m \u001b[1;32mwith\u001b[0m \u001b[0mopen\u001b[0m\u001b[1;33m(\u001b[0m\u001b[1;34m\"final_project_dataset.pkl\"\u001b[0m\u001b[1;33m,\u001b[0m \u001b[1;34m\"r\"\u001b[0m\u001b[1;33m)\u001b[0m \u001b[1;32mas\u001b[0m \u001b[0mdata_file\u001b[0m\u001b[1;33m:\u001b[0m\u001b[1;33m\u001b[0m\u001b[0m\n\u001b[0;32m----> 5\u001b[0;31m     \u001b[0mdata_dict\u001b[0m \u001b[1;33m=\u001b[0m \u001b[0mpickle\u001b[0m\u001b[1;33m.\u001b[0m\u001b[0mload\u001b[0m\u001b[1;33m(\u001b[0m\u001b[0mdata_file\u001b[0m\u001b[1;33m)\u001b[0m\u001b[1;33m\u001b[0m\u001b[0m\n\u001b[0m\u001b[1;32m      6\u001b[0m \u001b[1;33m\u001b[0m\u001b[0m\n\u001b[1;32m      7\u001b[0m \u001b[0mdf\u001b[0m \u001b[1;33m=\u001b[0m \u001b[0mpandas\u001b[0m\u001b[1;33m.\u001b[0m\u001b[0mDataFrame\u001b[0m\u001b[1;33m.\u001b[0m\u001b[0mfrom_records\u001b[0m\u001b[1;33m(\u001b[0m\u001b[0mlist\u001b[0m\u001b[1;33m(\u001b[0m\u001b[0mdata_dict\u001b[0m\u001b[1;33m.\u001b[0m\u001b[0mvalues\u001b[0m\u001b[1;33m(\u001b[0m\u001b[1;33m)\u001b[0m\u001b[1;33m)\u001b[0m\u001b[1;33m)\u001b[0m\u001b[1;33m\u001b[0m\u001b[0m\n",
      "\u001b[0;31mNameError\u001b[0m: name 'pickle' is not defined"
     ]
    }
   ],
   "source": [
    "import numpy as np\n",
    "\n",
    "#reduce the outlier called \"total\"\n",
    "with open(\"final_project_dataset.pkl\", \"r\") as data_file:\n",
    "    data_dict = pickle.load(data_file)\n",
    "\n",
    "df = pandas.DataFrame.from_records(list(data_dict.values()))\n",
    "employees = pandas.Series(list(data_dict.keys()))\n",
    "# set the index of df to be the employees series:\n",
    "df.set_index(employees, inplace=True)\n",
    "df = df.drop(\"TOTAL\", axis = 0)\n",
    "df = df.drop(\"THE TRAVEL AGENCY IN THE PARK\", axis =0)\n",
    "\n",
    "\n",
    "# substitue the string NaN to np.nan\n",
    "df.replace(to_replace = \"NaN\", value = np.nan, inplace = True) \n",
    "\n",
    "# drop the people who have less info\n",
    "count = 0\n",
    "for i in df.index:\n",
    "        if df.ix[i].count() < 11 and not df.ix[i]['poi']:\n",
    "            count += 1\n",
    "            print i, df.ix[i]['poi'],\"\\n\",df.ix[i]\n",
    "            #print df.ix[i]\n",
    "            #df = df.drop(i, axis = 0)\n",
    "print count           \n",
    "#drop the email\n",
    "df = df.drop(\"email_address\", axis = 1)\n",
    "\n",
    "# drop the feature with so many NaN --over 100 NaN\n",
    "#df = df.drop('loan_advances', axis = 1)\n",
    "#df = df.drop('restricted_stock_deferred', axis = 1)\n",
    "#df = df.drop('director_fees', axis = 1)\n",
    "#df = df.drop('deferral_payments', axis = 1)\n",
    "\n",
    "\n"
   ]
  },
  {
   "cell_type": "code",
   "execution_count": 108,
   "metadata": {},
   "outputs": [
    {
     "name": "stdout",
     "output_type": "stream",
     "text": [
      "HANNON KEVIN P 16\n",
      "COLWELL WESLEY 15\n",
      "RIEKER PAULA H 16\n",
      "KOPPER MICHAEL J 9\n",
      "SHELBY REX 15\n",
      "DELAINEY DAVID W 15\n",
      "LAY KENNETH L 17\n",
      "BOWEN JR RAYMOND M 15\n",
      "BELDEN TIMOTHY N 16\n",
      "FASTOW ANDREW S 10\n",
      "CALGER CHRISTOPHER F 15\n",
      "RICE KENNETH D 16\n",
      "SKILLING JEFFREY K 15\n",
      "YEAGER F SCOTT 8\n",
      "=== not over 8 non NaN value ===\n",
      "HIRKO JOSEPH 7\n",
      "KOENIG MARK E 15\n",
      "CAUSEY RICHARD A 15\n",
      "GLISAN JR BEN F 15\n",
      "over 8 non NaN value poi 17\n"
     ]
    }
   ],
   "source": [
    "count = 0\n",
    "for i in df.index:\n",
    "        if df.ix[i].count() > 7 and df.ix[i]['poi']:\n",
    "            print i, df.ix[i].count()\n",
    "            count = count + 1\n",
    "        elif df.ix[i]['poi']:\n",
    "            print \"=== not over 8 non NaN value ===\"\n",
    "            print i, df.ix[i].count()\n",
    "print \"over 8 non NaN value poi\", count"
   ]
  },
  {
   "cell_type": "code",
   "execution_count": 64,
   "metadata": {},
   "outputs": [
    {
     "name": "stdout",
     "output_type": "stream",
     "text": [
      "\n",
      "=====bonus=====\n",
      "count    1.600000e+01\n",
      "mean     2.075000e+06\n",
      "std      2.047437e+06\n",
      "min      2.000000e+05\n",
      "25%      7.750000e+05\n",
      "50%      1.275000e+06\n",
      "75%      2.062500e+06\n",
      "max      7.000000e+06\n",
      "Name: bonus, dtype: float64\n",
      "\n",
      "\n",
      "count    6.500000e+01\n",
      "mean     9.868249e+05\n",
      "std      1.173880e+06\n",
      "min      7.000000e+04\n",
      "25%      4.000000e+05\n",
      "50%      7.000000e+05\n",
      "75%      1.000000e+06\n",
      "max      8.000000e+06\n",
      "Name: bonus, dtype: float64\n",
      "\n",
      "=====deferral_payments=====\n",
      "count    5.000000e+00\n",
      "mean     5.198942e+05\n",
      "std      9.128895e+05\n",
      "min      1.025900e+04\n",
      "25%      2.761000e+04\n",
      "50%      2.029110e+05\n",
      "75%      2.146780e+05\n",
      "max      2.144013e+06\n",
      "Name: deferral_payments, dtype: float64\n",
      "\n",
      "\n",
      "count    3.300000e+01\n",
      "mean     8.903462e+05\n",
      "std      1.341381e+06\n",
      "min     -1.025000e+05\n",
      "25%      8.543000e+04\n",
      "50%      2.604550e+05\n",
      "75%      8.753070e+05\n",
      "max      6.426990e+06\n",
      "Name: deferral_payments, dtype: float64\n",
      "\n",
      "=====deferred_income=====\n",
      "count    1.100000e+01\n",
      "mean    -1.035313e+06\n",
      "std      1.334972e+06\n",
      "min     -3.504386e+06\n",
      "25%     -1.860244e+06\n",
      "50%     -2.625000e+05\n",
      "75%     -1.220310e+05\n",
      "max     -8.330000e+02\n",
      "Name: deferred_income, dtype: float64\n",
      "\n",
      "\n",
      "count    3.700000e+01\n",
      "mean    -4.459985e+05\n",
      "std      7.627914e+05\n",
      "min     -3.367011e+06\n",
      "25%     -5.750000e+05\n",
      "50%     -1.212840e+05\n",
      "75%     -3.666600e+04\n",
      "max     -1.042000e+03\n",
      "Name: deferred_income, dtype: float64\n",
      "\n",
      "=====director_fees=====\n",
      "count    0.0\n",
      "mean     NaN\n",
      "std      NaN\n",
      "min      NaN\n",
      "25%      NaN\n",
      "50%      NaN\n",
      "75%      NaN\n",
      "max      NaN\n",
      "Name: director_fees, dtype: float64\n",
      "\n",
      "\n",
      "count        16.000000\n",
      "mean      89822.875000\n",
      "std       41112.700735\n",
      "min        3285.000000\n",
      "25%       83674.500000\n",
      "50%      106164.500000\n",
      "75%      112815.000000\n",
      "max      137864.000000\n",
      "Name: director_fees, dtype: float64\n",
      "\n",
      "=====exercised_stock_options=====\n",
      "count    1.200000e+01\n",
      "mean     1.046379e+07\n",
      "std      1.238259e+07\n",
      "min      3.847280e+05\n",
      "25%      1.456581e+06\n",
      "50%      3.914557e+06\n",
      "75%      1.938604e+07\n",
      "max      3.434838e+07\n",
      "Name: exercised_stock_options, dtype: float64\n",
      "\n",
      "\n",
      "count    8.900000e+01\n",
      "mean     1.947752e+06\n",
      "std      2.547068e+06\n",
      "min      3.285000e+03\n",
      "25%      4.365150e+05\n",
      "50%      1.030329e+06\n",
      "75%      2.165172e+06\n",
      "max      1.536417e+07\n",
      "Name: exercised_stock_options, dtype: float64\n",
      "\n",
      "=====expenses=====\n",
      "count        18.000000\n",
      "mean      59873.833333\n",
      "std       37524.658812\n",
      "min       16514.000000\n",
      "25%       31323.250000\n",
      "50%       50448.500000\n",
      "75%       84125.000000\n",
      "max      127017.000000\n",
      "Name: expenses, dtype: float64\n",
      "\n",
      "\n",
      "count        76.000000\n",
      "mean      52846.315789\n",
      "std       48036.089983\n",
      "min         148.000000\n",
      "25%       18254.000000\n",
      "50%       44601.000000\n",
      "75%       76764.750000\n",
      "max      228763.000000\n",
      "Name: expenses, dtype: float64\n",
      "\n",
      "=====from_messages=====\n",
      "count      14.000000\n",
      "mean      300.357143\n",
      "std       805.844574\n",
      "min        16.000000\n",
      "25%        33.000000\n",
      "50%        44.500000\n",
      "75%       101.500000\n",
      "max      3069.000000\n",
      "Name: from_messages, dtype: float64\n",
      "\n",
      "\n",
      "count       72.000000\n",
      "mean       668.763889\n",
      "std       1978.997801\n",
      "min         12.000000\n",
      "25%         20.500000\n",
      "50%         41.000000\n",
      "75%        216.500000\n",
      "max      14368.000000\n",
      "Name: from_messages, dtype: float64\n",
      "\n",
      "=====from_poi_to_this_person=====\n",
      "count     14.000000\n",
      "mean      97.785714\n",
      "std       76.058862\n",
      "min       13.000000\n",
      "25%       44.500000\n",
      "50%       62.000000\n",
      "75%      135.750000\n",
      "max      240.000000\n",
      "Name: from_poi_to_this_person, dtype: float64\n",
      "\n",
      "\n",
      "count     72.000000\n",
      "mean      58.500000\n",
      "std       87.995198\n",
      "min        0.000000\n",
      "25%       10.000000\n",
      "50%       26.500000\n",
      "75%       61.750000\n",
      "max      528.000000\n",
      "Name: from_poi_to_this_person, dtype: float64\n",
      "\n",
      "=====from_this_person_to_poi=====\n",
      "count     14.000000\n",
      "mean      66.714286\n",
      "std      158.289622\n",
      "min        4.000000\n",
      "25%       12.500000\n",
      "50%       15.500000\n",
      "75%       28.750000\n",
      "max      609.000000\n",
      "Name: from_this_person_to_poi, dtype: float64\n",
      "\n",
      "\n",
      "count     72.000000\n",
      "mean      36.277778\n",
      "std       85.139690\n",
      "min        0.000000\n",
      "25%        0.000000\n",
      "50%        6.000000\n",
      "75%       23.250000\n",
      "max      411.000000\n",
      "Name: from_this_person_to_poi, dtype: float64\n",
      "\n",
      "=====long_term_incentive=====\n",
      "count    1.200000e+01\n",
      "mean     1.204862e+06\n",
      "std      9.916583e+05\n",
      "min      7.102300e+04\n",
      "25%      3.689780e+05\n",
      "50%      1.134637e+06\n",
      "75%      1.646772e+06\n",
      "max      3.600000e+06\n",
      "Name: long_term_incentive, dtype: float64\n",
      "\n",
      "\n",
      "count    5.300000e+01\n",
      "mean     6.427090e+05\n",
      "std      8.055904e+05\n",
      "min      6.922300e+04\n",
      "25%      2.561910e+05\n",
      "50%      3.753040e+05\n",
      "75%      6.948620e+05\n",
      "max      5.145434e+06\n",
      "Name: long_term_incentive, dtype: float64\n",
      "\n",
      "=====other=====\n",
      "count    1.800000e+01\n",
      "mean     8.029974e+05\n",
      "std      2.417568e+06\n",
      "min      4.860000e+02\n",
      "25%      4.979500e+03\n",
      "50%      1.492040e+05\n",
      "75%      2.607725e+05\n",
      "max      1.035973e+07\n",
      "Name: other, dtype: float64\n",
      "\n",
      "\n",
      "count    7.300000e+01\n",
      "mean     3.834165e+05\n",
      "std      1.012686e+06\n",
      "min      2.000000e+00\n",
      "25%      9.470000e+02\n",
      "50%      1.296100e+04\n",
      "75%      3.746890e+05\n",
      "max      7.427621e+06\n",
      "Name: other, dtype: float64\n",
      "\n",
      "=====poi=====\n",
      "count       18\n",
      "unique       1\n",
      "top       True\n",
      "freq        18\n",
      "Name: poi, dtype: object\n",
      "\n",
      "\n",
      "count       126\n",
      "unique        1\n",
      "top       False\n",
      "freq        126\n",
      "Name: poi, dtype: object\n",
      "\n",
      "=====restricted_stock=====\n",
      "count    1.700000e+01\n",
      "mean     2.318621e+06\n",
      "std      3.620811e+06\n",
      "min      1.260270e+05\n",
      "25%      3.938180e+05\n",
      "50%      9.850320e+05\n",
      "75%      2.502063e+06\n",
      "max      1.476169e+07\n",
      "Name: restricted_stock, dtype: float64\n",
      "\n",
      "\n",
      "count    9.200000e+01\n",
      "mean     9.310073e+05\n",
      "std      1.843451e+06\n",
      "min     -2.604490e+06\n",
      "25%      2.119995e+05\n",
      "50%      4.135865e+05\n",
      "75%      9.097590e+05\n",
      "max      1.384707e+07\n",
      "Name: restricted_stock, dtype: float64\n",
      "\n",
      "=====salary=====\n",
      "count    1.700000e+01\n",
      "mean     3.834449e+05\n",
      "std      2.783597e+05\n",
      "min      1.584030e+05\n",
      "25%      2.401890e+05\n",
      "50%      2.786010e+05\n",
      "75%      4.151890e+05\n",
      "max      1.111258e+06\n",
      "Name: salary, dtype: float64\n",
      "\n",
      "\n",
      "count    7.700000e+01\n",
      "mean     2.621515e+05\n",
      "std      1.392317e+05\n",
      "min      4.770000e+02\n",
      "25%      2.061210e+05\n",
      "50%      2.516540e+05\n",
      "75%      2.885890e+05\n",
      "max      1.060932e+06\n",
      "Name: salary, dtype: float64\n",
      "\n",
      "=====shared_receipt_with_poi=====\n",
      "count      14.000000\n",
      "mean     1783.000000\n",
      "std      1264.996625\n",
      "min        91.000000\n",
      "25%      1059.250000\n",
      "50%      1589.000000\n",
      "75%      2165.250000\n",
      "max      5521.000000\n",
      "Name: shared_receipt_with_poi, dtype: float64\n",
      "\n",
      "\n",
      "count      72.000000\n",
      "mean     1058.527778\n",
      "std      1132.503757\n",
      "min         2.000000\n",
      "25%       191.500000\n",
      "50%       594.000000\n",
      "75%      1635.500000\n",
      "max      4527.000000\n",
      "Name: shared_receipt_with_poi, dtype: float64\n",
      "\n",
      "=====to_messages=====\n",
      "count      14.000000\n",
      "mean     2417.142857\n",
      "std      1961.858101\n",
      "min       225.000000\n",
      "25%      1115.750000\n",
      "50%      1875.000000\n",
      "75%      2969.250000\n",
      "max      7991.000000\n",
      "Name: to_messages, dtype: float64\n",
      "\n",
      "\n",
      "count       72.000000\n",
      "mean      2007.111111\n",
      "std       2693.165955\n",
      "min         57.000000\n",
      "25%        513.750000\n",
      "50%        944.000000\n",
      "75%       2590.750000\n",
      "max      15149.000000\n",
      "Name: to_messages, dtype: float64\n",
      "\n",
      "=====total_payments=====\n",
      "count    1.800000e+01\n",
      "mean     7.913590e+06\n",
      "std      2.396549e+07\n",
      "min      9.109300e+04\n",
      "25%      1.142396e+06\n",
      "50%      1.754028e+06\n",
      "75%      2.665345e+06\n",
      "max      1.035598e+08\n",
      "Name: total_payments, dtype: float64\n",
      "\n",
      "\n",
      "count    1.050000e+02\n",
      "mean     1.738072e+06\n",
      "std      2.627417e+06\n",
      "min      1.480000e+02\n",
      "25%      3.199410e+05\n",
      "50%      1.057548e+06\n",
      "75%      2.014835e+06\n",
      "max      1.725253e+07\n",
      "Name: total_payments, dtype: float64\n",
      "\n",
      "=====total_stock_value=====\n",
      "count    1.800000e+01\n",
      "mean     9.165671e+06\n",
      "std      1.384117e+07\n",
      "min      1.260270e+05\n",
      "25%      1.016450e+06\n",
      "50%      2.206836e+06\n",
      "75%      1.051133e+07\n",
      "max      4.911008e+07\n",
      "Name: total_stock_value, dtype: float64\n",
      "\n",
      "\n",
      "count    1.070000e+02\n",
      "mean     2.374085e+06\n",
      "std      3.535017e+06\n",
      "min     -4.409300e+04\n",
      "25%      4.246845e+05\n",
      "50%      1.030329e+06\n",
      "75%      2.307584e+06\n",
      "max      2.381793e+07\n",
      "Name: total_stock_value, dtype: float64\n"
     ]
    }
   ],
   "source": [
    "for i in df.columns.values:\n",
    "    print \"\\n====={}=====\".format(i)\n",
    "    print df[df['poi'] == True][i].describe()\n",
    "    print \"\\n\"\n",
    "    print df[df['poi'] == False][i].describe()"
   ]
  },
  {
   "cell_type": "code",
   "execution_count": 55,
   "metadata": {},
   "outputs": [
    {
     "data": {
      "text/plain": [
       "bonus                         35\n",
       "deferral_payments             83\n",
       "deferred_income               78\n",
       "director_fees                112\n",
       "exercised_stock_options       28\n",
       "expenses                      32\n",
       "from_messages                 30\n",
       "from_poi_to_this_person       30\n",
       "from_this_person_to_poi       30\n",
       "long_term_incentive           52\n",
       "other                         27\n",
       "poi                            0\n",
       "restricted_stock              14\n",
       "restricted_stock_deferred    104\n",
       "salary                        23\n",
       "shared_receipt_with_poi       30\n",
       "to_messages                   30\n",
       "total_payments                11\n",
       "total_stock_value              6\n",
       "dtype: int64"
      ]
     },
     "execution_count": 55,
     "metadata": {},
     "output_type": "execute_result"
    }
   ],
   "source": [
    "df.isnull().sum()"
   ]
  },
  {
   "cell_type": "code",
   "execution_count": 69,
   "metadata": {},
   "outputs": [
    {
     "name": "stdout",
     "output_type": "stream",
     "text": [
      "METTS MARK 13 False 585062.0\n",
      "BAXTER JOHN C 12 False 10623258.0\n",
      "ELLIOTT STEVEN 10 False 6678735.0\n",
      "CORDES WILLIAM R 9 False 1038185.0\n",
      "MORDAUNT KRISTINA M 8 False 208510.0\n",
      "MEYER ROCKFORD G 11 False 955873.0\n",
      "MCMAHON JEFFREY 15 False 1662855.0\n",
      "HORTON STANLEY C 11 False 7256648.0\n",
      "PIPER GREGORY F 16 False 880290.0\n",
      "HUMPHREY GENE E 12 False 2282768.0\n",
      "UMANOFF ADAM S 10 False nan\n",
      "BLACHMAN JEREMY M 15 False 954354.0\n",
      "SUNDE MARTIN 13 False 698920.0\n",
      "GIBBS DANA R 11 False 2218275.0\n",
      "LOWRY CHARLES P 4 False 372205.0\n",
      "MULLER MARK S 16 False 1416848.0\n",
      "JACKSON CHARLENE R 14 False 725735.0\n",
      "WESTFAHL RICHARD K 9 False 384930.0\n",
      "WALTERS GARETH W 6 False 1030329.0\n",
      "WALLS JR ROBERT H 15 False 5898997.0\n",
      "KITCHEN LOUISE 14 False 547143.0\n",
      "CHAN RONNIE 4 False nan\n",
      "BELFER ROBERT 6 False -44093.0\n",
      "SHANKMAN JEFFREY A 15 False 2072035.0\n",
      "WODRASKA JOHN 3 False nan\n",
      "BERGSIEKER RICHARD P 15 False 659249.0\n",
      "URQUHART JOHN A 5 False nan\n",
      "BIBI PHILIPPE A 15 False 1843816.0\n",
      "WHALEY DAVID A 3 False 98718.0\n",
      "BECK SALLY W 13 False 126027.0\n",
      "HAUG DAVID L 10 False 2217299.0\n",
      "ECHOLS JOHN B 10 False 1008941.0\n",
      "MENDELSOHN JOHN 5 False nan\n",
      "HICKERSON GARY J 14 False 441096.0\n",
      "CLINE KENNETH W 3 False 189518.0\n",
      "LEWIS RICHARD 8 False 850477.0\n",
      "HAYES ROBERT E 10 False 151418.0\n",
      "MCCARTY DANNY J 9 False 758931.0\n",
      "LEFF DANIEL P 13 False 360528.0\n",
      "LAVORATO JOHN J 15 False 5167144.0\n",
      "BERBERIAN DAVID 7 False 2493616.0\n",
      "DETMERING TIMOTHY J 12 False 2027865.0\n",
      "WAKEHAM JOHN 4 False nan\n",
      "POWERS WILLIAM 8 False nan\n",
      "GOLD JOSEPH 9 False 877611.0\n",
      "BANNANTINE JAMES M 14 False 5243487.0\n",
      "DUNCAN JOHN H 6 False 371750.0\n",
      "SHAPIRO RICHARD S 14 False 987001.0\n",
      "SHERRIFF JOHN R 14 False 3128982.0\n",
      "LEMAISTRE CHARLES 6 False 412878.0\n",
      "DEFFNER JOSEPH M 15 False 159211.0\n",
      "KISHKILL JOSEPH G 8 False 1034346.0\n",
      "WHALLEY LAWRENCE G 15 False 6079137.0\n",
      "MCCONNELL MICHAEL S 15 False 3101279.0\n",
      "PIRO JIM 8 False 47304.0\n",
      "SULLIVAN-SHAKLOVITZ COLLEEN 9 False 1362375.0\n",
      "WROBEL BRUCE 3 False 139130.0\n",
      "LINDHOLM TOD A 11 False 3064208.0\n",
      "MEYER JEROME J 5 False nan\n",
      "BUTTS ROBERT H 10 False 417619.0\n",
      "OLSON CINDY K 16 False 2606763.0\n",
      "MCDONALD REBECCA 9 False 1691366.0\n",
      "CUMBERLAND MICHAEL S 9 False 207940.0\n",
      "GAHN ROBERT S 11 False 318607.0\n",
      "MCCLELLAN GEORGE 15 False 947861.0\n",
      "HERMANN ROBERT J 11 False 668132.0\n",
      "SCRIMSHAW MATTHEW 3 False 759557.0\n",
      "GATHMANN WILLIAM D 4 False 1945360.0\n",
      "HAEDICKE MARK E 17 False 803094.0\n",
      "GILLIS JOHN 4 False 85641.0\n",
      "FITZGERALD JAY L 15 False 1621236.0\n",
      "MORAN MICHAEL P 9 False 221141.0\n",
      "REDMOND BRIAN L 12 False 7890324.0\n",
      "BAZELIDES PHILIP J 8 False 1599641.0\n",
      "DURAN WILLIAM D 15 False 1640910.0\n",
      "THORN TERENCE H 15 False 4817796.0\n",
      "FOY JOE 10 False 343434.0\n",
      "KAMINSKI WINCENTY J 15 False 976037.0\n",
      "LOCKHART EUGENE E 1 False nan\n",
      "COX DAVID 15 False 495633.0\n",
      "OVERDYKE JR JERE C 9 False 7307594.0\n",
      "PEREIRA PAULO V. FERRAZ 5 False nan\n",
      "STABLER FRANK 8 False 511734.0\n",
      "BLAKE JR. NORMAN P 5 False nan\n",
      "SHERRICK JEFFREY B 9 False 1832468.0\n",
      "PRENTICE JAMES 6 False 1095040.0\n",
      "GRAY RODNEY 6 False nan\n",
      "PICKERING MARK R 12 False 28798.0\n",
      "NOLES JAMES L 5 False 368705.0\n",
      "KEAN STEVEN J 15 False 6153642.0\n",
      "FOWLER PEGGY 9 False 1884748.0\n",
      "WASAFF GEORGE 16 False 2056427.0\n",
      "WHITE JR THOMAS E 9 False 15144123.0\n",
      "CHRISTODOULOU DIOMEDES 4 False 6077885.0\n",
      "ALLEN PHILLIP K 17 False 1729541.0\n",
      "SHARP VICTORIA T 16 False 494136.0\n",
      "JAEDICKE ROBERT 7 False 431750.0\n",
      "WINOKUR JR. HERBERT S 5 False nan\n",
      "BROWN MICHAEL 8 False nan\n",
      "BADUM JAMES P 6 False 257817.0\n",
      "HUGHES JAMES A 9 False 1118394.0\n",
      "REYNOLDS LAWRENCE 12 False 4221891.0\n",
      "DIMICHELE RICHARD G 10 False 8317782.0\n",
      "BHATNAGAR SANJAY 11 False nan\n",
      "CARTER REBECCA C 13 False nan\n",
      "BUCHANAN HAROLD G 15 False 1014505.0\n",
      "YEAP SOON 5 False 192758.0\n",
      "MURRAY JULIA H 15 False 597461.0\n",
      "GARLAND C KEVIN 15 False 896153.0\n",
      "DODSON KEITH 11 False nan\n",
      "DIETRICH JANET R 15 False 1865087.0\n",
      "DERRICK JR. JAMES V 16 False 8831913.0\n",
      "FREVERT MARK A 17 False 14622185.0\n",
      "PAI LOU L 9 False 23817930.0\n",
      "BAY FRANKLIN R 10 False 63014.0\n",
      "HAYSLETT RODERICK J 8 False 346663.0\n",
      "FUGH JOHN L 5 False 176378.0\n",
      "FALLON JAMES B 15 False 2332399.0\n",
      "SAVAGE FRANK 4 False nan\n",
      "IZZO LAWRENCE L 14 False 5819980.0\n",
      "TILNEY ELIZABETH A 15 False 1168042.0\n",
      "MARTIN AMANDA K 14 False 2070306.0\n",
      "BUY RICHARD B 16 False 3444470.0\n",
      "GRAMM WENDY L 3 False nan\n",
      "TAYLOR MITCHELL S 13 False 3745048.0\n",
      "DONAHUE JR JEFFREY M 15 False 1080988.0\n"
     ]
    }
   ],
   "source": [
    "for i in df.index:\n",
    "        if not df.ix[i]['poi']:\n",
    "            print i, df.ix[i].count(), df.ix[i]['poi'], df.ix[i]['total_stock_value']\n",
    "           "
   ]
  },
  {
   "cell_type": "code",
   "execution_count": 71,
   "metadata": {},
   "outputs": [
    {
     "name": "stdout",
     "output_type": "stream",
     "text": [
      " HANNON KEVIN P 16 True 6391065.0\n",
      "COLWELL WESLEY 15 True 698242.0\n",
      "RIEKER PAULA H 16 True 1918887.0\n",
      "KOPPER MICHAEL J 9 True 985032.0\n",
      "SHELBY REX 15 True 2493616.0\n",
      "DELAINEY DAVID W 15 True 3614261.0\n",
      "LAY KENNETH L 17 True 49110078.0\n",
      "BOWEN JR RAYMOND M 15 True 252055.0\n",
      "BELDEN TIMOTHY N 16 True 1110705.0\n",
      "FASTOW ANDREW S 10 True 1794412.0\n",
      "CALGER CHRISTOPHER F 15 True 126027.0\n",
      "RICE KENNETH D 16 True 22542539.0\n",
      "SKILLING JEFFREY K 15 True 26093672.0\n",
      "YEAGER F SCOTT 8 True 11884758.0\n",
      "HIRKO JOSEPH 7 True 30766064.0\n",
      "KOENIG MARK E 15 True 1920055.0\n",
      "CAUSEY RICHARD A 15 True 2502063.0\n",
      "GLISAN JR BEN F 15 True 778546.0\n"
     ]
    }
   ],
   "source": [
    "for i in df.index:\n",
    "        if df.ix[i]['poi']:\n",
    "            print i, df.ix[i].count(), df.ix[i]['poi'], df.ix[i]['total_stock_value']\n",
    "           "
   ]
  },
  {
   "cell_type": "code",
   "execution_count": 52,
   "metadata": {},
   "outputs": [
    {
     "data": {
      "text/plain": [
       "bonus                        NaN\n",
       "deferred_income              NaN\n",
       "exercised_stock_options      NaN\n",
       "expenses                     NaN\n",
       "from_messages                NaN\n",
       "from_poi_to_this_person      NaN\n",
       "from_this_person_to_poi      NaN\n",
       "long_term_incentive          NaN\n",
       "other                        NaN\n",
       "poi                        False\n",
       "restricted_stock             NaN\n",
       "salary                       NaN\n",
       "shared_receipt_with_poi      NaN\n",
       "to_messages                  NaN\n",
       "total_payments               NaN\n",
       "total_stock_value            NaN\n",
       "Name: LOCKHART EUGENE E, dtype: object"
      ]
     },
     "execution_count": 52,
     "metadata": {},
     "output_type": "execute_result"
    }
   ],
   "source": [
    "df.ix[\"LOCKHART EUGENE E\"]"
   ]
  }
 ],
 "metadata": {
  "anaconda-cloud": {},
  "kernelspec": {
   "display_name": "Python 3",
   "language": "python",
   "name": "python3"
  },
  "language_info": {
   "codemirror_mode": {
    "name": "ipython",
    "version": 3
   },
   "file_extension": ".py",
   "mimetype": "text/x-python",
   "name": "python",
   "nbconvert_exporter": "python",
   "pygments_lexer": "ipython3",
   "version": "3.6.2"
  }
 },
 "nbformat": 4,
 "nbformat_minor": 2
}
